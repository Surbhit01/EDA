{
 "cells": [
  {
   "cell_type": "markdown",
   "id": "ef7c53d9",
   "metadata": {},
   "source": [
    "## Objective\n",
    "\n",
    "You work for Spark Funds, an asset management company. Spark Funds wants to make investments in a few companies. The CEO of Spark Funds wants to understand the global trends in investments so that she can take the investment decisions effectively.\n",
    "\n",
    "## Business and Data Understanding\n",
    "\n",
    "The firm has 2 constraints for investment:\n",
    "\n",
    "- It wants to invest between 5 and 15 million USD per round of investment\n",
    "\n",
    "- It wants to invest only in English-speaking countries because of the ease of communication with the companies it would invest in. (Consider a country to be English speaking only if it is one of the official languages)\n",
    "\n",
    "## Business Objective\n",
    "\n",
    "The objective is to identify the best sectors, countries, and a suitable investment type for making investments. The overall strategy is to invest where others are investing, implying that the 'best' sectors and countries are the ones 'where most investors are investing'."
   ]
  },
  {
   "cell_type": "code",
   "execution_count": 2,
   "id": "d44a224c",
   "metadata": {},
   "outputs": [],
   "source": [
    "import pandas as pd\n",
    "import numpy as np\n",
    "import matplotlib.pyplot as plt\n",
    "import seaborn as sns\n",
    "pd.options.display.float_format = '{:,.2f}'.format"
   ]
  },
  {
   "cell_type": "code",
   "execution_count": 3,
   "id": "4dc6bae9",
   "metadata": {},
   "outputs": [],
   "source": [
    "#Loading both files into pandas dataframe\n",
    "companies = pd.read_csv('data/companies.txt', sep='\\t', encoding = 'ISO-8859-1')\n",
    "rounds2=pd.read_csv('data/rounds2.csv',encoding='ISO-8859-1')"
   ]
  },
  {
   "cell_type": "code",
   "execution_count": 4,
   "id": "7f3fa11d",
   "metadata": {
    "scrolled": true
   },
   "outputs": [
    {
     "data": {
      "text/html": [
       "<div>\n",
       "<style scoped>\n",
       "    .dataframe tbody tr th:only-of-type {\n",
       "        vertical-align: middle;\n",
       "    }\n",
       "\n",
       "    .dataframe tbody tr th {\n",
       "        vertical-align: top;\n",
       "    }\n",
       "\n",
       "    .dataframe thead th {\n",
       "        text-align: right;\n",
       "    }\n",
       "</style>\n",
       "<table border=\"1\" class=\"dataframe\">\n",
       "  <thead>\n",
       "    <tr style=\"text-align: right;\">\n",
       "      <th></th>\n",
       "      <th>permalink</th>\n",
       "      <th>name</th>\n",
       "      <th>homepage_url</th>\n",
       "      <th>category_list</th>\n",
       "      <th>status</th>\n",
       "      <th>country_code</th>\n",
       "      <th>state_code</th>\n",
       "      <th>region</th>\n",
       "      <th>city</th>\n",
       "      <th>founded_at</th>\n",
       "    </tr>\n",
       "  </thead>\n",
       "  <tbody>\n",
       "    <tr>\n",
       "      <th>0</th>\n",
       "      <td>/Organization/-Fame</td>\n",
       "      <td>#fame</td>\n",
       "      <td>http://livfame.com</td>\n",
       "      <td>Media</td>\n",
       "      <td>operating</td>\n",
       "      <td>IND</td>\n",
       "      <td>16</td>\n",
       "      <td>Mumbai</td>\n",
       "      <td>Mumbai</td>\n",
       "      <td>NaN</td>\n",
       "    </tr>\n",
       "    <tr>\n",
       "      <th>1</th>\n",
       "      <td>/Organization/-Qounter</td>\n",
       "      <td>:Qounter</td>\n",
       "      <td>http://www.qounter.com</td>\n",
       "      <td>Application Platforms|Real Time|Social Network...</td>\n",
       "      <td>operating</td>\n",
       "      <td>USA</td>\n",
       "      <td>DE</td>\n",
       "      <td>DE - Other</td>\n",
       "      <td>Delaware City</td>\n",
       "      <td>04-09-2014</td>\n",
       "    </tr>\n",
       "    <tr>\n",
       "      <th>2</th>\n",
       "      <td>/Organization/-The-One-Of-Them-Inc-</td>\n",
       "      <td>(THE) ONE of THEM,Inc.</td>\n",
       "      <td>http://oneofthem.jp</td>\n",
       "      <td>Apps|Games|Mobile</td>\n",
       "      <td>operating</td>\n",
       "      <td>NaN</td>\n",
       "      <td>NaN</td>\n",
       "      <td>NaN</td>\n",
       "      <td>NaN</td>\n",
       "      <td>NaN</td>\n",
       "    </tr>\n",
       "    <tr>\n",
       "      <th>3</th>\n",
       "      <td>/Organization/0-6-Com</td>\n",
       "      <td>0-6.com</td>\n",
       "      <td>http://www.0-6.com</td>\n",
       "      <td>Curated Web</td>\n",
       "      <td>operating</td>\n",
       "      <td>CHN</td>\n",
       "      <td>22</td>\n",
       "      <td>Beijing</td>\n",
       "      <td>Beijing</td>\n",
       "      <td>01-01-2007</td>\n",
       "    </tr>\n",
       "    <tr>\n",
       "      <th>4</th>\n",
       "      <td>/Organization/004-Technologies</td>\n",
       "      <td>004 Technologies</td>\n",
       "      <td>http://004gmbh.de/en/004-interact</td>\n",
       "      <td>Software</td>\n",
       "      <td>operating</td>\n",
       "      <td>USA</td>\n",
       "      <td>IL</td>\n",
       "      <td>Springfield, Illinois</td>\n",
       "      <td>Champaign</td>\n",
       "      <td>01-01-2010</td>\n",
       "    </tr>\n",
       "  </tbody>\n",
       "</table>\n",
       "</div>"
      ],
      "text/plain": [
       "                             permalink                    name  \\\n",
       "0                  /Organization/-Fame                   #fame   \n",
       "1               /Organization/-Qounter                :Qounter   \n",
       "2  /Organization/-The-One-Of-Them-Inc-  (THE) ONE of THEM,Inc.   \n",
       "3                /Organization/0-6-Com                 0-6.com   \n",
       "4       /Organization/004-Technologies        004 Technologies   \n",
       "\n",
       "                        homepage_url  \\\n",
       "0                 http://livfame.com   \n",
       "1             http://www.qounter.com   \n",
       "2                http://oneofthem.jp   \n",
       "3                 http://www.0-6.com   \n",
       "4  http://004gmbh.de/en/004-interact   \n",
       "\n",
       "                                       category_list     status country_code  \\\n",
       "0                                              Media  operating          IND   \n",
       "1  Application Platforms|Real Time|Social Network...  operating          USA   \n",
       "2                                  Apps|Games|Mobile  operating          NaN   \n",
       "3                                        Curated Web  operating          CHN   \n",
       "4                                           Software  operating          USA   \n",
       "\n",
       "  state_code                 region           city  founded_at  \n",
       "0         16                 Mumbai         Mumbai         NaN  \n",
       "1         DE             DE - Other  Delaware City  04-09-2014  \n",
       "2        NaN                    NaN            NaN         NaN  \n",
       "3         22                Beijing        Beijing  01-01-2007  \n",
       "4         IL  Springfield, Illinois      Champaign  01-01-2010  "
      ]
     },
     "execution_count": 4,
     "metadata": {},
     "output_type": "execute_result"
    }
   ],
   "source": [
    "#Companies.txt\n",
    "\n",
    "companies.head()"
   ]
  },
  {
   "cell_type": "markdown",
   "id": "0da5b825",
   "metadata": {},
   "source": [
    "<b>Companies.txt</b> - Company details like name, homepage_url, category_list, status, country, founded_at etc."
   ]
  },
  {
   "cell_type": "code",
   "execution_count": 5,
   "id": "300d7068",
   "metadata": {},
   "outputs": [
    {
     "data": {
      "text/html": [
       "<div>\n",
       "<style scoped>\n",
       "    .dataframe tbody tr th:only-of-type {\n",
       "        vertical-align: middle;\n",
       "    }\n",
       "\n",
       "    .dataframe tbody tr th {\n",
       "        vertical-align: top;\n",
       "    }\n",
       "\n",
       "    .dataframe thead th {\n",
       "        text-align: right;\n",
       "    }\n",
       "</style>\n",
       "<table border=\"1\" class=\"dataframe\">\n",
       "  <thead>\n",
       "    <tr style=\"text-align: right;\">\n",
       "      <th></th>\n",
       "      <th>company_permalink</th>\n",
       "      <th>funding_round_permalink</th>\n",
       "      <th>funding_round_type</th>\n",
       "      <th>funding_round_code</th>\n",
       "      <th>funded_at</th>\n",
       "      <th>raised_amount_usd</th>\n",
       "    </tr>\n",
       "  </thead>\n",
       "  <tbody>\n",
       "    <tr>\n",
       "      <th>0</th>\n",
       "      <td>/organization/-fame</td>\n",
       "      <td>/funding-round/9a01d05418af9f794eebff7ace91f638</td>\n",
       "      <td>venture</td>\n",
       "      <td>B</td>\n",
       "      <td>05-01-2015</td>\n",
       "      <td>10,000,000.00</td>\n",
       "    </tr>\n",
       "    <tr>\n",
       "      <th>1</th>\n",
       "      <td>/ORGANIZATION/-QOUNTER</td>\n",
       "      <td>/funding-round/22dacff496eb7acb2b901dec1dfe5633</td>\n",
       "      <td>venture</td>\n",
       "      <td>A</td>\n",
       "      <td>14-10-2014</td>\n",
       "      <td>NaN</td>\n",
       "    </tr>\n",
       "    <tr>\n",
       "      <th>2</th>\n",
       "      <td>/organization/-qounter</td>\n",
       "      <td>/funding-round/b44fbb94153f6cdef13083530bb48030</td>\n",
       "      <td>seed</td>\n",
       "      <td>NaN</td>\n",
       "      <td>01-03-2014</td>\n",
       "      <td>700,000.00</td>\n",
       "    </tr>\n",
       "    <tr>\n",
       "      <th>3</th>\n",
       "      <td>/ORGANIZATION/-THE-ONE-OF-THEM-INC-</td>\n",
       "      <td>/funding-round/650b8f704416801069bb178a1418776b</td>\n",
       "      <td>venture</td>\n",
       "      <td>B</td>\n",
       "      <td>30-01-2014</td>\n",
       "      <td>3,406,878.00</td>\n",
       "    </tr>\n",
       "    <tr>\n",
       "      <th>4</th>\n",
       "      <td>/organization/0-6-com</td>\n",
       "      <td>/funding-round/5727accaeaa57461bd22a9bdd945382d</td>\n",
       "      <td>venture</td>\n",
       "      <td>A</td>\n",
       "      <td>19-03-2008</td>\n",
       "      <td>2,000,000.00</td>\n",
       "    </tr>\n",
       "  </tbody>\n",
       "</table>\n",
       "</div>"
      ],
      "text/plain": [
       "                     company_permalink  \\\n",
       "0                  /organization/-fame   \n",
       "1               /ORGANIZATION/-QOUNTER   \n",
       "2               /organization/-qounter   \n",
       "3  /ORGANIZATION/-THE-ONE-OF-THEM-INC-   \n",
       "4                /organization/0-6-com   \n",
       "\n",
       "                           funding_round_permalink funding_round_type  \\\n",
       "0  /funding-round/9a01d05418af9f794eebff7ace91f638            venture   \n",
       "1  /funding-round/22dacff496eb7acb2b901dec1dfe5633            venture   \n",
       "2  /funding-round/b44fbb94153f6cdef13083530bb48030               seed   \n",
       "3  /funding-round/650b8f704416801069bb178a1418776b            venture   \n",
       "4  /funding-round/5727accaeaa57461bd22a9bdd945382d            venture   \n",
       "\n",
       "  funding_round_code   funded_at  raised_amount_usd  \n",
       "0                  B  05-01-2015      10,000,000.00  \n",
       "1                  A  14-10-2014                NaN  \n",
       "2                NaN  01-03-2014         700,000.00  \n",
       "3                  B  30-01-2014       3,406,878.00  \n",
       "4                  A  19-03-2008       2,000,000.00  "
      ]
     },
     "execution_count": 5,
     "metadata": {},
     "output_type": "execute_result"
    }
   ],
   "source": [
    "#Rounds2.csv\n",
    "\n",
    "rounds2.head()"
   ]
  },
  {
   "cell_type": "markdown",
   "id": "57671d03",
   "metadata": {},
   "source": [
    "<b>rounds2.csv</b> - Funding details for all companies like funding round type, funded at, amount raised etc."
   ]
  },
  {
   "cell_type": "markdown",
   "id": "651551fe",
   "metadata": {},
   "source": [
    "We convert the permalink and company_permalink of companies.txt and round2.csv to lowercase for matching"
   ]
  },
  {
   "cell_type": "code",
   "execution_count": 6,
   "id": "bb486994",
   "metadata": {},
   "outputs": [],
   "source": [
    "#Converting permalink and company_permalink of companies and rounds2 respectively to lowercase\n",
    "companies['permalink'] = pd.Series(map(lambda x: x.lower() , companies['permalink']))\n",
    "rounds2['company_permalink']= pd.Series(map(lambda x: x.lower(), rounds2['company_permalink']))"
   ]
  },
  {
   "cell_type": "code",
   "execution_count": 7,
   "id": "99a06bfa",
   "metadata": {},
   "outputs": [
    {
     "name": "stdout",
     "output_type": "stream",
     "text": [
      "Unique values in permalink (Companies.txt): 66368\n"
     ]
    }
   ],
   "source": [
    "#computing unique records in companies table\n",
    "print(\"Unique values in permalink (Companies.txt): {}\".format(companies['permalink'].nunique()))"
   ]
  },
  {
   "cell_type": "code",
   "execution_count": 8,
   "id": "51541035",
   "metadata": {},
   "outputs": [
    {
     "name": "stdout",
     "output_type": "stream",
     "text": [
      "Unique values in company_permalink (round2.csv): 66370\n"
     ]
    }
   ],
   "source": [
    "#computing unique records in rounds2 table\n",
    "print(\"Unique values in company_permalink (round2.csv): {}\".format(rounds2['company_permalink'].nunique()))"
   ]
  },
  {
   "cell_type": "markdown",
   "id": "855b00db",
   "metadata": {},
   "source": [
    "Renaming <b>company_permalink</b> to <b>permalink</b> to enable merging of round2.csv and companies.txt"
   ]
  },
  {
   "cell_type": "code",
   "execution_count": 9,
   "id": "84d34d0a",
   "metadata": {},
   "outputs": [
    {
     "data": {
      "text/html": [
       "<div>\n",
       "<style scoped>\n",
       "    .dataframe tbody tr th:only-of-type {\n",
       "        vertical-align: middle;\n",
       "    }\n",
       "\n",
       "    .dataframe tbody tr th {\n",
       "        vertical-align: top;\n",
       "    }\n",
       "\n",
       "    .dataframe thead th {\n",
       "        text-align: right;\n",
       "    }\n",
       "</style>\n",
       "<table border=\"1\" class=\"dataframe\">\n",
       "  <thead>\n",
       "    <tr style=\"text-align: right;\">\n",
       "      <th></th>\n",
       "      <th>permalink</th>\n",
       "      <th>funding_round_permalink</th>\n",
       "      <th>funding_round_type</th>\n",
       "      <th>funding_round_code</th>\n",
       "      <th>funded_at</th>\n",
       "      <th>raised_amount_usd</th>\n",
       "      <th>name</th>\n",
       "      <th>homepage_url</th>\n",
       "      <th>category_list</th>\n",
       "      <th>status</th>\n",
       "      <th>country_code</th>\n",
       "      <th>state_code</th>\n",
       "      <th>region</th>\n",
       "      <th>city</th>\n",
       "      <th>founded_at</th>\n",
       "    </tr>\n",
       "  </thead>\n",
       "  <tbody>\n",
       "    <tr>\n",
       "      <th>0</th>\n",
       "      <td>/organization/-fame</td>\n",
       "      <td>/funding-round/9a01d05418af9f794eebff7ace91f638</td>\n",
       "      <td>venture</td>\n",
       "      <td>B</td>\n",
       "      <td>05-01-2015</td>\n",
       "      <td>10,000,000.00</td>\n",
       "      <td>#fame</td>\n",
       "      <td>http://livfame.com</td>\n",
       "      <td>Media</td>\n",
       "      <td>operating</td>\n",
       "      <td>IND</td>\n",
       "      <td>16</td>\n",
       "      <td>Mumbai</td>\n",
       "      <td>Mumbai</td>\n",
       "      <td>NaN</td>\n",
       "    </tr>\n",
       "    <tr>\n",
       "      <th>1</th>\n",
       "      <td>/organization/-qounter</td>\n",
       "      <td>/funding-round/22dacff496eb7acb2b901dec1dfe5633</td>\n",
       "      <td>venture</td>\n",
       "      <td>A</td>\n",
       "      <td>14-10-2014</td>\n",
       "      <td>NaN</td>\n",
       "      <td>:Qounter</td>\n",
       "      <td>http://www.qounter.com</td>\n",
       "      <td>Application Platforms|Real Time|Social Network...</td>\n",
       "      <td>operating</td>\n",
       "      <td>USA</td>\n",
       "      <td>DE</td>\n",
       "      <td>DE - Other</td>\n",
       "      <td>Delaware City</td>\n",
       "      <td>04-09-2014</td>\n",
       "    </tr>\n",
       "    <tr>\n",
       "      <th>2</th>\n",
       "      <td>/organization/-qounter</td>\n",
       "      <td>/funding-round/b44fbb94153f6cdef13083530bb48030</td>\n",
       "      <td>seed</td>\n",
       "      <td>NaN</td>\n",
       "      <td>01-03-2014</td>\n",
       "      <td>700,000.00</td>\n",
       "      <td>:Qounter</td>\n",
       "      <td>http://www.qounter.com</td>\n",
       "      <td>Application Platforms|Real Time|Social Network...</td>\n",
       "      <td>operating</td>\n",
       "      <td>USA</td>\n",
       "      <td>DE</td>\n",
       "      <td>DE - Other</td>\n",
       "      <td>Delaware City</td>\n",
       "      <td>04-09-2014</td>\n",
       "    </tr>\n",
       "    <tr>\n",
       "      <th>3</th>\n",
       "      <td>/organization/-the-one-of-them-inc-</td>\n",
       "      <td>/funding-round/650b8f704416801069bb178a1418776b</td>\n",
       "      <td>venture</td>\n",
       "      <td>B</td>\n",
       "      <td>30-01-2014</td>\n",
       "      <td>3,406,878.00</td>\n",
       "      <td>(THE) ONE of THEM,Inc.</td>\n",
       "      <td>http://oneofthem.jp</td>\n",
       "      <td>Apps|Games|Mobile</td>\n",
       "      <td>operating</td>\n",
       "      <td>NaN</td>\n",
       "      <td>NaN</td>\n",
       "      <td>NaN</td>\n",
       "      <td>NaN</td>\n",
       "      <td>NaN</td>\n",
       "    </tr>\n",
       "    <tr>\n",
       "      <th>4</th>\n",
       "      <td>/organization/0-6-com</td>\n",
       "      <td>/funding-round/5727accaeaa57461bd22a9bdd945382d</td>\n",
       "      <td>venture</td>\n",
       "      <td>A</td>\n",
       "      <td>19-03-2008</td>\n",
       "      <td>2,000,000.00</td>\n",
       "      <td>0-6.com</td>\n",
       "      <td>http://www.0-6.com</td>\n",
       "      <td>Curated Web</td>\n",
       "      <td>operating</td>\n",
       "      <td>CHN</td>\n",
       "      <td>22</td>\n",
       "      <td>Beijing</td>\n",
       "      <td>Beijing</td>\n",
       "      <td>01-01-2007</td>\n",
       "    </tr>\n",
       "  </tbody>\n",
       "</table>\n",
       "</div>"
      ],
      "text/plain": [
       "                             permalink  \\\n",
       "0                  /organization/-fame   \n",
       "1               /organization/-qounter   \n",
       "2               /organization/-qounter   \n",
       "3  /organization/-the-one-of-them-inc-   \n",
       "4                /organization/0-6-com   \n",
       "\n",
       "                           funding_round_permalink funding_round_type  \\\n",
       "0  /funding-round/9a01d05418af9f794eebff7ace91f638            venture   \n",
       "1  /funding-round/22dacff496eb7acb2b901dec1dfe5633            venture   \n",
       "2  /funding-round/b44fbb94153f6cdef13083530bb48030               seed   \n",
       "3  /funding-round/650b8f704416801069bb178a1418776b            venture   \n",
       "4  /funding-round/5727accaeaa57461bd22a9bdd945382d            venture   \n",
       "\n",
       "  funding_round_code   funded_at  raised_amount_usd                    name  \\\n",
       "0                  B  05-01-2015      10,000,000.00                   #fame   \n",
       "1                  A  14-10-2014                NaN                :Qounter   \n",
       "2                NaN  01-03-2014         700,000.00                :Qounter   \n",
       "3                  B  30-01-2014       3,406,878.00  (THE) ONE of THEM,Inc.   \n",
       "4                  A  19-03-2008       2,000,000.00                 0-6.com   \n",
       "\n",
       "             homepage_url                                      category_list  \\\n",
       "0      http://livfame.com                                              Media   \n",
       "1  http://www.qounter.com  Application Platforms|Real Time|Social Network...   \n",
       "2  http://www.qounter.com  Application Platforms|Real Time|Social Network...   \n",
       "3     http://oneofthem.jp                                  Apps|Games|Mobile   \n",
       "4      http://www.0-6.com                                        Curated Web   \n",
       "\n",
       "      status country_code state_code      region           city  founded_at  \n",
       "0  operating          IND         16      Mumbai         Mumbai         NaN  \n",
       "1  operating          USA         DE  DE - Other  Delaware City  04-09-2014  \n",
       "2  operating          USA         DE  DE - Other  Delaware City  04-09-2014  \n",
       "3  operating          NaN        NaN         NaN            NaN         NaN  \n",
       "4  operating          CHN         22     Beijing        Beijing  01-01-2007  "
      ]
     },
     "execution_count": 9,
     "metadata": {},
     "output_type": "execute_result"
    }
   ],
   "source": [
    "#Joining two tables with identical column and values\n",
    "rounds2= rounds2.rename(columns = {\"company_permalink\": \"permalink\"})\n",
    "\n",
    "master_frame=pd.merge(rounds2,companies,on='permalink',how='inner')\n",
    "master_frame.head()"
   ]
  },
  {
   "cell_type": "code",
   "execution_count": 10,
   "id": "bc142e91",
   "metadata": {},
   "outputs": [
    {
     "name": "stdout",
     "output_type": "stream",
     "text": [
      "Dataframe has 114942 records and 15 features\n"
     ]
    }
   ],
   "source": [
    "#Total records \n",
    "print('Dataframe has {} records and {} features'.format(master_frame.shape[0],master_frame.shape[1]))"
   ]
  },
  {
   "cell_type": "markdown",
   "id": "ef8c8e03",
   "metadata": {},
   "source": [
    "#### Missing values"
   ]
  },
  {
   "cell_type": "markdown",
   "id": "3bc66752",
   "metadata": {},
   "source": [
    "Count of missing values"
   ]
  },
  {
   "cell_type": "code",
   "execution_count": 11,
   "id": "14949051",
   "metadata": {},
   "outputs": [
    {
     "data": {
      "text/plain": [
       "permalink                      0\n",
       "funding_round_permalink        0\n",
       "funding_round_type             0\n",
       "funding_round_code         83803\n",
       "funded_at                      0\n",
       "raised_amount_usd          19984\n",
       "name                           1\n",
       "homepage_url                6132\n",
       "category_list               3407\n",
       "status                         0\n",
       "country_code                8671\n",
       "state_code                 10939\n",
       "region                     10160\n",
       "city                       10157\n",
       "founded_at                 20520\n",
       "dtype: int64"
      ]
     },
     "execution_count": 11,
     "metadata": {},
     "output_type": "execute_result"
    }
   ],
   "source": [
    "# Count of missing data\n",
    "master_frame.isnull().sum()"
   ]
  },
  {
   "cell_type": "markdown",
   "id": "b322093e",
   "metadata": {},
   "source": [
    "Percentage of missing data"
   ]
  },
  {
   "cell_type": "code",
   "execution_count": 27,
   "id": "e336cb27",
   "metadata": {},
   "outputs": [
    {
     "data": {
      "text/plain": [
       "permalink                  0.00\n",
       "funding_round_permalink    0.00\n",
       "funding_round_type         0.00\n",
       "funding_round_code        72.91\n",
       "funded_at                  0.00\n",
       "raised_amount_usd         17.39\n",
       "name                       0.00\n",
       "homepage_url               5.33\n",
       "category_list              2.96\n",
       "status                     0.00\n",
       "country_code               7.54\n",
       "state_code                 9.52\n",
       "region                     8.84\n",
       "city                       8.84\n",
       "founded_at                17.85\n",
       "dtype: float64"
      ]
     },
     "execution_count": 27,
     "metadata": {},
     "output_type": "execute_result"
    }
   ],
   "source": [
    "# Percentage of missing data\n",
    "round(100*(master_frame.isnull().sum()/len(master_frame.index)), 2)"
   ]
  },
  {
   "cell_type": "markdown",
   "id": "ec29c466",
   "metadata": {},
   "source": [
    "Certain features like funding_round_permalink, funded_at, funding_round_code, homepage_url,state_code,region,city,founded_at are not of much importance. Hence we drop those"
   ]
  },
  {
   "cell_type": "code",
   "execution_count": 12,
   "id": "840d76b5",
   "metadata": {},
   "outputs": [],
   "source": [
    "#Removing unwanted data\n",
    "colsToRemove = ['funding_round_permalink','funded_at','funding_round_code','homepage_url','state_code','state_code','region','city','founded_at']\n",
    "master_frame = master_frame.drop(colsToRemove, axis=1)"
   ]
  },
  {
   "cell_type": "code",
   "execution_count": 13,
   "id": "05ac3640",
   "metadata": {},
   "outputs": [
    {
     "data": {
      "text/plain": [
       "permalink             0.00\n",
       "funding_round_type    0.00\n",
       "raised_amount_usd    17.39\n",
       "name                  0.00\n",
       "category_list         2.96\n",
       "status                0.00\n",
       "country_code          7.54\n",
       "dtype: float64"
      ]
     },
     "execution_count": 13,
     "metadata": {},
     "output_type": "execute_result"
    }
   ],
   "source": [
    "#Checking for null\n",
    "round(100*(master_frame.isnull().sum()/len(master_frame.index)), 2)"
   ]
  },
  {
   "cell_type": "markdown",
   "id": "0c2602b4",
   "metadata": {},
   "source": [
    "Certain entries in raised_amount_usd,category_list,country_code has null/nan values. Here we remove those entries"
   ]
  },
  {
   "cell_type": "code",
   "execution_count": 14,
   "id": "67fb9b2c",
   "metadata": {},
   "outputs": [],
   "source": [
    "#Removing entries with na values in raised_amount_usd, category_code, category_list\n",
    "master_frame= master_frame[pd.notnull(master_frame['raised_amount_usd'])]\n",
    "master_frame= master_frame[pd.notnull(master_frame['category_list'])]\n",
    "master_frame= master_frame[pd.notnull(master_frame['country_code'])]"
   ]
  },
  {
   "cell_type": "code",
   "execution_count": 15,
   "id": "caf14870",
   "metadata": {},
   "outputs": [
    {
     "data": {
      "text/plain": [
       "permalink            0.00\n",
       "funding_round_type   0.00\n",
       "raised_amount_usd    0.00\n",
       "name                 0.00\n",
       "category_list        0.00\n",
       "status               0.00\n",
       "country_code         0.00\n",
       "dtype: float64"
      ]
     },
     "execution_count": 15,
     "metadata": {},
     "output_type": "execute_result"
    }
   ],
   "source": [
    "round(100*(master_frame.isnull().sum()/len(master_frame.index)), 2)"
   ]
  },
  {
   "cell_type": "code",
   "execution_count": 16,
   "id": "98fb005d",
   "metadata": {},
   "outputs": [
    {
     "name": "stdout",
     "output_type": "stream",
     "text": [
      "Number of records after removing missing values: 88529\n"
     ]
    }
   ],
   "source": [
    "print('Number of records after removing missing values: {}'.format(len(master_frame.index)))"
   ]
  },
  {
   "cell_type": "markdown",
   "id": "ff7d2bb4",
   "metadata": {},
   "source": [
    "Grouping the dataset of basis of <b>funding_round_type</b> and finding the average amount raised (<b>raised_amount_usd</b>) for each type of funding round."
   ]
  },
  {
   "cell_type": "code",
   "execution_count": 17,
   "id": "fb6cb1a9",
   "metadata": {},
   "outputs": [],
   "source": [
    "#Calulating avg of each type of funding as mean/avg is the most representative investment amount\n",
    "funding_round_type_group=master_frame.groupby('funding_round_type')"
   ]
  },
  {
   "cell_type": "code",
   "execution_count": 18,
   "id": "5019bc95",
   "metadata": {},
   "outputs": [
    {
     "name": "stdout",
     "output_type": "stream",
     "text": [
      "Mean amount raised by different types of funding rounds\n"
     ]
    },
    {
     "data": {
      "text/plain": [
       "funding_round_type\n",
       "post_ipo_debt            169451789\n",
       "secondary_market          84438532\n",
       "private_equity            73938486\n",
       "post_ipo_equity           66077058\n",
       "debt_financing            17167653\n",
       "undisclosed               15891661\n",
       "venture                   11724222\n",
       "grant                      4512698\n",
       "product_crowdfunding       1353226\n",
       "convertible_note           1337186\n",
       "angel                       971573\n",
       "seed                        747793\n",
       "equity_crowdfunding         509897\n",
       "non_equity_assistance       480753\n",
       "Name: raised_amount_usd, dtype: int64"
      ]
     },
     "execution_count": 18,
     "metadata": {},
     "output_type": "execute_result"
    }
   ],
   "source": [
    "type_funding=funding_round_type_group['raised_amount_usd'].mean().sort_values(ascending=False).astype('int')\n",
    "print('Mean amount raised by different types of funding rounds')\n",
    "type_funding"
   ]
  },
  {
   "cell_type": "markdown",
   "id": "10946cda",
   "metadata": {},
   "source": [
    "Selecting records where funding round type is <b>venture</b> ,  <b>angel</b> , <b>seed</b> or <b>private_equity</b> "
   ]
  },
  {
   "cell_type": "code",
   "execution_count": 19,
   "id": "2462ba89",
   "metadata": {},
   "outputs": [],
   "source": [
    "master_funding_selective=master_frame.loc[master_frame['funding_round_type'].isin(['venture', 'angel', 'seed', 'private_equity'])]"
   ]
  },
  {
   "cell_type": "code",
   "execution_count": 20,
   "id": "d35d6f92",
   "metadata": {},
   "outputs": [],
   "source": [
    "#Importing libraries for plots\n",
    "import matplotlib.pyplot as plt\n",
    "import seaborn as sns"
   ]
  },
  {
   "cell_type": "markdown",
   "id": "8d80c348",
   "metadata": {},
   "source": [
    "Visualizing the average amount raised by different funding round types"
   ]
  },
  {
   "cell_type": "code",
   "execution_count": 24,
   "id": "6d038d06",
   "metadata": {},
   "outputs": [
    {
     "data": {
      "image/png": "[encoded data removed]",
      "text/plain": [
       "<Figure size 1800x864 with 1 Axes>"
      ]
     },
     "metadata": {
      "needs_background": "light"
     },
     "output_type": "display_data"
    }
   ],
   "source": [
    "#Showing funding type with investment to identify 5-15M type\n",
    "plt.rc('font', size=14)\n",
    "plt.figure(num=None,figsize=(25,12))\n",
    "sns.barplot(x='funding_round_type', y='raised_amount_usd', data=master_frame)\n",
    "plt.xlabel('Funding type')\n",
    "plt.ylabel('Raised amount in USD')\n",
    "plt.yscale('log')\n",
    "plt.show()"
   ]
  },
  {
   "cell_type": "markdown",
   "id": "5ff1ceaf",
   "metadata": {},
   "source": [
    "Selecting records where funding round type is <b>venture</b>"
   ]
  },
  {
   "cell_type": "code",
   "execution_count": 30,
   "id": "9c25aed6",
   "metadata": {},
   "outputs": [
    {
     "data": {
      "text/html": [
       "<div>\n",
       "<style scoped>\n",
       "    .dataframe tbody tr th:only-of-type {\n",
       "        vertical-align: middle;\n",
       "    }\n",
       "\n",
       "    .dataframe tbody tr th {\n",
       "        vertical-align: top;\n",
       "    }\n",
       "\n",
       "    .dataframe thead th {\n",
       "        text-align: right;\n",
       "    }\n",
       "</style>\n",
       "<table border=\"1\" class=\"dataframe\">\n",
       "  <thead>\n",
       "    <tr style=\"text-align: right;\">\n",
       "      <th></th>\n",
       "      <th>permalink</th>\n",
       "      <th>funding_round_type</th>\n",
       "      <th>raised_amount_usd</th>\n",
       "      <th>name</th>\n",
       "      <th>category_list</th>\n",
       "      <th>status</th>\n",
       "      <th>country_code</th>\n",
       "    </tr>\n",
       "  </thead>\n",
       "  <tbody>\n",
       "    <tr>\n",
       "      <th>0</th>\n",
       "      <td>/organization/-fame</td>\n",
       "      <td>venture</td>\n",
       "      <td>10,000,000.00</td>\n",
       "      <td>#fame</td>\n",
       "      <td>Media</td>\n",
       "      <td>operating</td>\n",
       "      <td>IND</td>\n",
       "    </tr>\n",
       "    <tr>\n",
       "      <th>4</th>\n",
       "      <td>/organization/0-6-com</td>\n",
       "      <td>venture</td>\n",
       "      <td>2,000,000.00</td>\n",
       "      <td>0-6.com</td>\n",
       "      <td>Curated Web</td>\n",
       "      <td>operating</td>\n",
       "      <td>CHN</td>\n",
       "    </tr>\n",
       "    <tr>\n",
       "      <th>8</th>\n",
       "      <td>/organization/0ndine-biomedical-inc</td>\n",
       "      <td>venture</td>\n",
       "      <td>719,491.00</td>\n",
       "      <td>Ondine Biomedical Inc.</td>\n",
       "      <td>Biotechnology</td>\n",
       "      <td>operating</td>\n",
       "      <td>CAN</td>\n",
       "    </tr>\n",
       "    <tr>\n",
       "      <th>10</th>\n",
       "      <td>/organization/0xdata</td>\n",
       "      <td>venture</td>\n",
       "      <td>20,000,000.00</td>\n",
       "      <td>H2O.ai</td>\n",
       "      <td>Analytics</td>\n",
       "      <td>operating</td>\n",
       "      <td>USA</td>\n",
       "    </tr>\n",
       "    <tr>\n",
       "      <th>11</th>\n",
       "      <td>/organization/0xdata</td>\n",
       "      <td>venture</td>\n",
       "      <td>1,700,000.00</td>\n",
       "      <td>H2O.ai</td>\n",
       "      <td>Analytics</td>\n",
       "      <td>operating</td>\n",
       "      <td>USA</td>\n",
       "    </tr>\n",
       "  </tbody>\n",
       "</table>\n",
       "</div>"
      ],
      "text/plain": [
       "                              permalink funding_round_type  raised_amount_usd  \\\n",
       "0                   /organization/-fame            venture      10,000,000.00   \n",
       "4                 /organization/0-6-com            venture       2,000,000.00   \n",
       "8   /organization/0ndine-biomedical-inc            venture         719,491.00   \n",
       "10                 /organization/0xdata            venture      20,000,000.00   \n",
       "11                 /organization/0xdata            venture       1,700,000.00   \n",
       "\n",
       "                      name  category_list     status country_code  \n",
       "0                    #fame          Media  operating          IND  \n",
       "4                  0-6.com    Curated Web  operating          CHN  \n",
       "8   Ondine Biomedical Inc.  Biotechnology  operating          CAN  \n",
       "10                  H2O.ai      Analytics  operating          USA  \n",
       "11                  H2O.ai      Analytics  operating          USA  "
      ]
     },
     "execution_count": 30,
     "metadata": {},
     "output_type": "execute_result"
    }
   ],
   "source": [
    "#Filtering venture type records\n",
    "master_frame = master_frame.loc[master_frame['funding_round_type']=='venture']\n",
    "master_frame.head()"
   ]
  },
  {
   "cell_type": "code",
   "execution_count": 29,
   "id": "2f6bca80",
   "metadata": {},
   "outputs": [
    {
     "name": "stdout",
     "output_type": "stream",
     "text": [
      "Count of records 47809\n"
     ]
    }
   ],
   "source": [
    "#Records after filtering in master dataframe\n",
    "print('Count of records {}'.format(len(master_frame)))"
   ]
  },
  {
   "cell_type": "code",
   "execution_count": 27,
   "id": "4a7c99ac",
   "metadata": {},
   "outputs": [
    {
     "data": {
      "text/plain": [
       "USA    35943\n",
       "GBR     2041\n",
       "CHN     1548\n",
       "CAN     1246\n",
       "FRA      912\n",
       "       ...  \n",
       "MAR        1\n",
       "MMR        1\n",
       "KWT        1\n",
       "LAO        1\n",
       "MCO        1\n",
       "Name: country_code, Length: 97, dtype: int64"
      ]
     },
     "execution_count": 27,
     "metadata": {},
     "output_type": "execute_result"
    }
   ],
   "source": [
    "master_frame['country_code'].value_counts()"
   ]
  },
  {
   "cell_type": "code",
   "execution_count": 31,
   "id": "5a87045f",
   "metadata": {},
   "outputs": [
    {
     "data": {
      "text/plain": [
       "Biotechnology                                                       5402\n",
       "Software                                                            3960\n",
       "Health Care                                                         1375\n",
       "Clean Technology                                                    1268\n",
       "Enterprise Software                                                 1149\n",
       "                                                                    ... \n",
       "Identity|Identity Management|Online Identity                           1\n",
       "Cloud Computing|Enterprise Software|PaaS|Startups                      1\n",
       "Curated Web|Developer APIs|Developer Tools|Development Platforms       1\n",
       "Hardware + Software|Linux|Mobile|Open Source                           1\n",
       "Cloud Data Services|Television|Video Streaming                         1\n",
       "Name: category_list, Length: 9946, dtype: int64"
      ]
     },
     "execution_count": 31,
     "metadata": {},
     "output_type": "execute_result"
    }
   ],
   "source": [
    "master_frame['category_list'].value_counts()"
   ]
  },
  {
   "cell_type": "markdown",
   "id": "59fc3bbd",
   "metadata": {},
   "source": [
    "Extracting the primary sector from category list. The sector before the | symbol becomes the primary sector. \n",
    "\n",
    "- Eg Cloud Computing|Enterprise Software|PaaS|Startups will become 'Cloud Computing'"
   ]
  },
  {
   "cell_type": "code",
   "execution_count": 33,
   "id": "4b9daddf",
   "metadata": {},
   "outputs": [
    {
     "data": {
      "text/plain": [
       "0             media\n",
       "4       curated web\n",
       "8     biotechnology\n",
       "10        analytics\n",
       "11        analytics\n",
       "Name: primary_sector, dtype: object"
      ]
     },
     "execution_count": 33,
     "metadata": {},
     "output_type": "execute_result"
    }
   ],
   "source": [
    "#extracting the primary sector as first element of every value(separated by |) of a cell \n",
    "master_frame['primary_sector']=master_frame['category_list'].apply(lambda v: v.split('|')[0].lower())\n",
    "master_frame['primary_sector'].head()"
   ]
  },
  {
   "cell_type": "markdown",
   "id": "9dcc88ad",
   "metadata": {},
   "source": [
    "Selecting top 9 countries based of the amount raised in venture funding type"
   ]
  },
  {
   "cell_type": "code",
   "execution_count": 44,
   "id": "2aae8e81",
   "metadata": {},
   "outputs": [],
   "source": [
    "top9=master_frame\n",
    "top9_grouped=top9.groupby('country_code')['raised_amount_usd'].sum().sort_values(ascending=False).astype('int64')\n",
    "top9_grouped = top9_grouped[:9]"
   ]
  },
  {
   "cell_type": "code",
   "execution_count": 46,
   "id": "1f590e82",
   "metadata": {},
   "outputs": [
    {
     "data": {
      "text/plain": [
       "country_code\n",
       "USA    420068029342\n",
       "CHN     39338918773\n",
       "GBR     20072813004\n",
       "IND     14261508718\n",
       "CAN      9482217668\n",
       "FRA      7226851352\n",
       "ISR      6854350477\n",
       "DEU      6306921981\n",
       "JPN      3167647127\n",
       "Name: raised_amount_usd, dtype: int64"
      ]
     },
     "execution_count": 46,
     "metadata": {},
     "output_type": "execute_result"
    }
   ],
   "source": [
    "top9_grouped"
   ]
  },
  {
   "cell_type": "code",
   "execution_count": 51,
   "id": "e01f4ba1",
   "metadata": {},
   "outputs": [],
   "source": [
    "#Selecting english speaking countries - USA, GBR, IND\n",
    "eng = ['USA','GBR','IND']\n",
    "top9_grouped = top9_grouped.loc[top9_grouped.index.isin(eng)]"
   ]
  },
  {
   "cell_type": "code",
   "execution_count": 53,
   "id": "b0e2e61c",
   "metadata": {},
   "outputs": [
    {
     "data": {
      "text/plain": [
       "country_code\n",
       "USA    420068029342\n",
       "GBR     20072813004\n",
       "IND     14261508718\n",
       "Name: raised_amount_usd, dtype: int64"
      ]
     },
     "execution_count": 53,
     "metadata": {},
     "output_type": "execute_result"
    }
   ],
   "source": [
    "top9_grouped"
   ]
  },
  {
   "cell_type": "code",
   "execution_count": 54,
   "id": "a9ce95b2",
   "metadata": {},
   "outputs": [
    {
     "data": {
      "text/html": [
       "<div>\n",
       "<style scoped>\n",
       "    .dataframe tbody tr th:only-of-type {\n",
       "        vertical-align: middle;\n",
       "    }\n",
       "\n",
       "    .dataframe tbody tr th {\n",
       "        vertical-align: top;\n",
       "    }\n",
       "\n",
       "    .dataframe thead th {\n",
       "        text-align: right;\n",
       "    }\n",
       "</style>\n",
       "<table border=\"1\" class=\"dataframe\">\n",
       "  <thead>\n",
       "    <tr style=\"text-align: right;\">\n",
       "      <th></th>\n",
       "      <th>permalink</th>\n",
       "      <th>funding_round_type</th>\n",
       "      <th>raised_amount_usd</th>\n",
       "      <th>name</th>\n",
       "      <th>category_list</th>\n",
       "      <th>status</th>\n",
       "      <th>country_code</th>\n",
       "      <th>primary_sector</th>\n",
       "    </tr>\n",
       "  </thead>\n",
       "  <tbody>\n",
       "    <tr>\n",
       "      <th>0</th>\n",
       "      <td>/organization/-fame</td>\n",
       "      <td>venture</td>\n",
       "      <td>10,000,000.00</td>\n",
       "      <td>#fame</td>\n",
       "      <td>Media</td>\n",
       "      <td>operating</td>\n",
       "      <td>IND</td>\n",
       "      <td>media</td>\n",
       "    </tr>\n",
       "    <tr>\n",
       "      <th>4</th>\n",
       "      <td>/organization/0-6-com</td>\n",
       "      <td>venture</td>\n",
       "      <td>2,000,000.00</td>\n",
       "      <td>0-6.com</td>\n",
       "      <td>Curated Web</td>\n",
       "      <td>operating</td>\n",
       "      <td>CHN</td>\n",
       "      <td>curated web</td>\n",
       "    </tr>\n",
       "    <tr>\n",
       "      <th>8</th>\n",
       "      <td>/organization/0ndine-biomedical-inc</td>\n",
       "      <td>venture</td>\n",
       "      <td>719,491.00</td>\n",
       "      <td>Ondine Biomedical Inc.</td>\n",
       "      <td>Biotechnology</td>\n",
       "      <td>operating</td>\n",
       "      <td>CAN</td>\n",
       "      <td>biotechnology</td>\n",
       "    </tr>\n",
       "    <tr>\n",
       "      <th>10</th>\n",
       "      <td>/organization/0xdata</td>\n",
       "      <td>venture</td>\n",
       "      <td>20,000,000.00</td>\n",
       "      <td>H2O.ai</td>\n",
       "      <td>Analytics</td>\n",
       "      <td>operating</td>\n",
       "      <td>USA</td>\n",
       "      <td>analytics</td>\n",
       "    </tr>\n",
       "    <tr>\n",
       "      <th>11</th>\n",
       "      <td>/organization/0xdata</td>\n",
       "      <td>venture</td>\n",
       "      <td>1,700,000.00</td>\n",
       "      <td>H2O.ai</td>\n",
       "      <td>Analytics</td>\n",
       "      <td>operating</td>\n",
       "      <td>USA</td>\n",
       "      <td>analytics</td>\n",
       "    </tr>\n",
       "    <tr>\n",
       "      <th>12</th>\n",
       "      <td>/organization/0xdata</td>\n",
       "      <td>venture</td>\n",
       "      <td>8,900,000.00</td>\n",
       "      <td>H2O.ai</td>\n",
       "      <td>Analytics</td>\n",
       "      <td>operating</td>\n",
       "      <td>USA</td>\n",
       "      <td>analytics</td>\n",
       "    </tr>\n",
       "    <tr>\n",
       "      <th>22</th>\n",
       "      <td>/organization/1-mainstream</td>\n",
       "      <td>venture</td>\n",
       "      <td>5,000,000.00</td>\n",
       "      <td>1 Mainstream</td>\n",
       "      <td>Apps|Cable|Distribution|Software</td>\n",
       "      <td>acquired</td>\n",
       "      <td>USA</td>\n",
       "      <td>apps</td>\n",
       "    </tr>\n",
       "    <tr>\n",
       "      <th>28</th>\n",
       "      <td>/organization/10-minutes-with</td>\n",
       "      <td>venture</td>\n",
       "      <td>4,000,000.00</td>\n",
       "      <td>10 Minutes With</td>\n",
       "      <td>Education</td>\n",
       "      <td>operating</td>\n",
       "      <td>GBR</td>\n",
       "      <td>education</td>\n",
       "    </tr>\n",
       "    <tr>\n",
       "      <th>34</th>\n",
       "      <td>/organization/1000memories</td>\n",
       "      <td>venture</td>\n",
       "      <td>2,520,000.00</td>\n",
       "      <td>1000memories</td>\n",
       "      <td>Curated Web</td>\n",
       "      <td>acquired</td>\n",
       "      <td>USA</td>\n",
       "      <td>curated web</td>\n",
       "    </tr>\n",
       "    <tr>\n",
       "      <th>38</th>\n",
       "      <td>/organization/1000museums-com</td>\n",
       "      <td>venture</td>\n",
       "      <td>265,940.00</td>\n",
       "      <td>1000museums.com</td>\n",
       "      <td>Curated Web</td>\n",
       "      <td>operating</td>\n",
       "      <td>USA</td>\n",
       "      <td>curated web</td>\n",
       "    </tr>\n",
       "  </tbody>\n",
       "</table>\n",
       "</div>"
      ],
      "text/plain": [
       "                              permalink funding_round_type  raised_amount_usd  \\\n",
       "0                   /organization/-fame            venture      10,000,000.00   \n",
       "4                 /organization/0-6-com            venture       2,000,000.00   \n",
       "8   /organization/0ndine-biomedical-inc            venture         719,491.00   \n",
       "10                 /organization/0xdata            venture      20,000,000.00   \n",
       "11                 /organization/0xdata            venture       1,700,000.00   \n",
       "12                 /organization/0xdata            venture       8,900,000.00   \n",
       "22           /organization/1-mainstream            venture       5,000,000.00   \n",
       "28        /organization/10-minutes-with            venture       4,000,000.00   \n",
       "34           /organization/1000memories            venture       2,520,000.00   \n",
       "38        /organization/1000museums-com            venture         265,940.00   \n",
       "\n",
       "                      name                     category_list     status  \\\n",
       "0                    #fame                             Media  operating   \n",
       "4                  0-6.com                       Curated Web  operating   \n",
       "8   Ondine Biomedical Inc.                     Biotechnology  operating   \n",
       "10                  H2O.ai                         Analytics  operating   \n",
       "11                  H2O.ai                         Analytics  operating   \n",
       "12                  H2O.ai                         Analytics  operating   \n",
       "22            1 Mainstream  Apps|Cable|Distribution|Software   acquired   \n",
       "28         10 Minutes With                         Education  operating   \n",
       "34            1000memories                       Curated Web   acquired   \n",
       "38         1000museums.com                       Curated Web  operating   \n",
       "\n",
       "   country_code primary_sector  \n",
       "0           IND          media  \n",
       "4           CHN    curated web  \n",
       "8           CAN  biotechnology  \n",
       "10          USA      analytics  \n",
       "11          USA      analytics  \n",
       "12          USA      analytics  \n",
       "22          USA           apps  \n",
       "28          GBR      education  \n",
       "34          USA    curated web  \n",
       "38          USA    curated web  "
      ]
     },
     "execution_count": 54,
     "metadata": {},
     "output_type": "execute_result"
    }
   ],
   "source": [
    "top9.head(10)"
   ]
  },
  {
   "cell_type": "code",
   "execution_count": 55,
   "id": "e308268c",
   "metadata": {},
   "outputs": [
    {
     "data": {
      "text/plain": [
       "0                                Media\n",
       "4                          Curated Web\n",
       "8                        Biotechnology\n",
       "10                           Analytics\n",
       "11                           Analytics\n",
       "12                           Analytics\n",
       "22    Apps|Cable|Distribution|Software\n",
       "28                           Education\n",
       "34                         Curated Web\n",
       "38                         Curated Web\n",
       "Name: category_list, dtype: object"
      ]
     },
     "execution_count": 55,
     "metadata": {},
     "output_type": "execute_result"
    }
   ],
   "source": [
    "master_frame['category_list'].head(10)"
   ]
  },
  {
   "cell_type": "markdown",
   "id": "58edf0bb",
   "metadata": {},
   "source": [
    "Mapping file contains relation between domain and primary sector"
   ]
  },
  {
   "cell_type": "code",
   "execution_count": 60,
   "id": "02f627b8",
   "metadata": {},
   "outputs": [
    {
     "data": {
      "text/html": [
       "<div>\n",
       "<style scoped>\n",
       "    .dataframe tbody tr th:only-of-type {\n",
       "        vertical-align: middle;\n",
       "    }\n",
       "\n",
       "    .dataframe tbody tr th {\n",
       "        vertical-align: top;\n",
       "    }\n",
       "\n",
       "    .dataframe thead th {\n",
       "        text-align: right;\n",
       "    }\n",
       "</style>\n",
       "<table border=\"1\" class=\"dataframe\">\n",
       "  <thead>\n",
       "    <tr style=\"text-align: right;\">\n",
       "      <th></th>\n",
       "      <th>category_list</th>\n",
       "      <th>Automotive &amp; Sports</th>\n",
       "      <th>Blanks</th>\n",
       "      <th>Cleantech / Semiconductors</th>\n",
       "      <th>Entertainment</th>\n",
       "      <th>Health</th>\n",
       "      <th>Manufacturing</th>\n",
       "      <th>News, Search and Messaging</th>\n",
       "      <th>Others</th>\n",
       "      <th>Social, Finance, Analytics, Advertising</th>\n",
       "    </tr>\n",
       "  </thead>\n",
       "  <tbody>\n",
       "    <tr>\n",
       "      <th>0</th>\n",
       "      <td>NaN</td>\n",
       "      <td>0</td>\n",
       "      <td>1</td>\n",
       "      <td>0</td>\n",
       "      <td>0</td>\n",
       "      <td>0</td>\n",
       "      <td>0</td>\n",
       "      <td>0</td>\n",
       "      <td>0</td>\n",
       "      <td>0</td>\n",
       "    </tr>\n",
       "    <tr>\n",
       "      <th>1</th>\n",
       "      <td>3D</td>\n",
       "      <td>0</td>\n",
       "      <td>0</td>\n",
       "      <td>0</td>\n",
       "      <td>0</td>\n",
       "      <td>0</td>\n",
       "      <td>1</td>\n",
       "      <td>0</td>\n",
       "      <td>0</td>\n",
       "      <td>0</td>\n",
       "    </tr>\n",
       "    <tr>\n",
       "      <th>2</th>\n",
       "      <td>3D Printing</td>\n",
       "      <td>0</td>\n",
       "      <td>0</td>\n",
       "      <td>0</td>\n",
       "      <td>0</td>\n",
       "      <td>0</td>\n",
       "      <td>1</td>\n",
       "      <td>0</td>\n",
       "      <td>0</td>\n",
       "      <td>0</td>\n",
       "    </tr>\n",
       "    <tr>\n",
       "      <th>3</th>\n",
       "      <td>3D Technology</td>\n",
       "      <td>0</td>\n",
       "      <td>0</td>\n",
       "      <td>0</td>\n",
       "      <td>0</td>\n",
       "      <td>0</td>\n",
       "      <td>1</td>\n",
       "      <td>0</td>\n",
       "      <td>0</td>\n",
       "      <td>0</td>\n",
       "    </tr>\n",
       "    <tr>\n",
       "      <th>4</th>\n",
       "      <td>Accounting</td>\n",
       "      <td>0</td>\n",
       "      <td>0</td>\n",
       "      <td>0</td>\n",
       "      <td>0</td>\n",
       "      <td>0</td>\n",
       "      <td>0</td>\n",
       "      <td>0</td>\n",
       "      <td>0</td>\n",
       "      <td>1</td>\n",
       "    </tr>\n",
       "  </tbody>\n",
       "</table>\n",
       "</div>"
      ],
      "text/plain": [
       "   category_list  Automotive & Sports  Blanks  Cleantech / Semiconductors  \\\n",
       "0            NaN                    0       1                           0   \n",
       "1             3D                    0       0                           0   \n",
       "2    3D Printing                    0       0                           0   \n",
       "3  3D Technology                    0       0                           0   \n",
       "4     Accounting                    0       0                           0   \n",
       "\n",
       "   Entertainment  Health  Manufacturing  News, Search and Messaging  Others  \\\n",
       "0              0       0              0                           0       0   \n",
       "1              0       0              1                           0       0   \n",
       "2              0       0              1                           0       0   \n",
       "3              0       0              1                           0       0   \n",
       "4              0       0              0                           0       0   \n",
       "\n",
       "   Social, Finance, Analytics, Advertising  \n",
       "0                                        0  \n",
       "1                                        0  \n",
       "2                                        0  \n",
       "3                                        0  \n",
       "4                                        1  "
      ]
     },
     "execution_count": 60,
     "metadata": {},
     "output_type": "execute_result"
    }
   ],
   "source": [
    "#Loading mapping file\n",
    "mapping = pd.read_csv(\"data/mapping.csv\", encoding = \"ISO-8859-1\")\n",
    "mapping.head()"
   ]
  },
  {
   "cell_type": "code",
   "execution_count": 61,
   "id": "5e0cafa6",
   "metadata": {},
   "outputs": [
    {
     "data": {
      "text/plain": [
       "688"
      ]
     },
     "execution_count": 61,
     "metadata": {},
     "output_type": "execute_result"
    }
   ],
   "source": [
    "len(mapping.index)"
   ]
  },
  {
   "cell_type": "code",
   "execution_count": 62,
   "id": "59de44cd",
   "metadata": {},
   "outputs": [],
   "source": [
    "mapping = mapping[pd.notnull(mapping['category_list'])]"
   ]
  },
  {
   "cell_type": "code",
   "execution_count": 63,
   "id": "23e062bc",
   "metadata": {},
   "outputs": [
    {
     "data": {
      "text/plain": [
       "687"
      ]
     },
     "execution_count": 63,
     "metadata": {},
     "output_type": "execute_result"
    }
   ],
   "source": [
    "len(mapping.index)"
   ]
  },
  {
   "cell_type": "code",
   "execution_count": 64,
   "id": "403643c5",
   "metadata": {},
   "outputs": [
    {
     "data": {
      "text/html": [
       "<div>\n",
       "<style scoped>\n",
       "    .dataframe tbody tr th:only-of-type {\n",
       "        vertical-align: middle;\n",
       "    }\n",
       "\n",
       "    .dataframe tbody tr th {\n",
       "        vertical-align: top;\n",
       "    }\n",
       "\n",
       "    .dataframe thead th {\n",
       "        text-align: right;\n",
       "    }\n",
       "</style>\n",
       "<table border=\"1\" class=\"dataframe\">\n",
       "  <thead>\n",
       "    <tr style=\"text-align: right;\">\n",
       "      <th></th>\n",
       "      <th>category_list</th>\n",
       "      <th>Automotive &amp; Sports</th>\n",
       "      <th>Blanks</th>\n",
       "      <th>Cleantech / Semiconductors</th>\n",
       "      <th>Entertainment</th>\n",
       "      <th>Health</th>\n",
       "      <th>Manufacturing</th>\n",
       "      <th>News, Search and Messaging</th>\n",
       "      <th>Others</th>\n",
       "      <th>Social, Finance, Analytics, Advertising</th>\n",
       "    </tr>\n",
       "  </thead>\n",
       "  <tbody>\n",
       "    <tr>\n",
       "      <th>1</th>\n",
       "      <td>3D</td>\n",
       "      <td>0</td>\n",
       "      <td>0</td>\n",
       "      <td>0</td>\n",
       "      <td>0</td>\n",
       "      <td>0</td>\n",
       "      <td>1</td>\n",
       "      <td>0</td>\n",
       "      <td>0</td>\n",
       "      <td>0</td>\n",
       "    </tr>\n",
       "    <tr>\n",
       "      <th>2</th>\n",
       "      <td>3D Printing</td>\n",
       "      <td>0</td>\n",
       "      <td>0</td>\n",
       "      <td>0</td>\n",
       "      <td>0</td>\n",
       "      <td>0</td>\n",
       "      <td>1</td>\n",
       "      <td>0</td>\n",
       "      <td>0</td>\n",
       "      <td>0</td>\n",
       "    </tr>\n",
       "    <tr>\n",
       "      <th>3</th>\n",
       "      <td>3D Technology</td>\n",
       "      <td>0</td>\n",
       "      <td>0</td>\n",
       "      <td>0</td>\n",
       "      <td>0</td>\n",
       "      <td>0</td>\n",
       "      <td>1</td>\n",
       "      <td>0</td>\n",
       "      <td>0</td>\n",
       "      <td>0</td>\n",
       "    </tr>\n",
       "    <tr>\n",
       "      <th>4</th>\n",
       "      <td>Accounting</td>\n",
       "      <td>0</td>\n",
       "      <td>0</td>\n",
       "      <td>0</td>\n",
       "      <td>0</td>\n",
       "      <td>0</td>\n",
       "      <td>0</td>\n",
       "      <td>0</td>\n",
       "      <td>0</td>\n",
       "      <td>1</td>\n",
       "    </tr>\n",
       "    <tr>\n",
       "      <th>5</th>\n",
       "      <td>Active Lifestyle</td>\n",
       "      <td>0</td>\n",
       "      <td>0</td>\n",
       "      <td>0</td>\n",
       "      <td>0</td>\n",
       "      <td>1</td>\n",
       "      <td>0</td>\n",
       "      <td>0</td>\n",
       "      <td>0</td>\n",
       "      <td>0</td>\n",
       "    </tr>\n",
       "  </tbody>\n",
       "</table>\n",
       "</div>"
      ],
      "text/plain": [
       "      category_list  Automotive & Sports  Blanks  Cleantech / Semiconductors  \\\n",
       "1                3D                    0       0                           0   \n",
       "2       3D Printing                    0       0                           0   \n",
       "3     3D Technology                    0       0                           0   \n",
       "4        Accounting                    0       0                           0   \n",
       "5  Active Lifestyle                    0       0                           0   \n",
       "\n",
       "   Entertainment  Health  Manufacturing  News, Search and Messaging  Others  \\\n",
       "1              0       0              1                           0       0   \n",
       "2              0       0              1                           0       0   \n",
       "3              0       0              1                           0       0   \n",
       "4              0       0              0                           0       0   \n",
       "5              0       1              0                           0       0   \n",
       "\n",
       "   Social, Finance, Analytics, Advertising  \n",
       "1                                        0  \n",
       "2                                        0  \n",
       "3                                        0  \n",
       "4                                        1  \n",
       "5                                        0  "
      ]
     },
     "execution_count": 64,
     "metadata": {},
     "output_type": "execute_result"
    }
   ],
   "source": [
    "#mapping after removing nan entry\n",
    "mapping.head()"
   ]
  },
  {
   "cell_type": "code",
   "execution_count": 69,
   "id": "26ed0388",
   "metadata": {},
   "outputs": [
    {
     "data": {
      "text/html": [
       "<div>\n",
       "<style scoped>\n",
       "    .dataframe tbody tr th:only-of-type {\n",
       "        vertical-align: middle;\n",
       "    }\n",
       "\n",
       "    .dataframe tbody tr th {\n",
       "        vertical-align: top;\n",
       "    }\n",
       "\n",
       "    .dataframe thead th {\n",
       "        text-align: right;\n",
       "    }\n",
       "</style>\n",
       "<table border=\"1\" class=\"dataframe\">\n",
       "  <thead>\n",
       "    <tr style=\"text-align: right;\">\n",
       "      <th></th>\n",
       "      <th>category_list</th>\n",
       "      <th>main_sector</th>\n",
       "    </tr>\n",
       "  </thead>\n",
       "  <tbody>\n",
       "    <tr>\n",
       "      <th>0</th>\n",
       "      <td>3D</td>\n",
       "      <td>Manufacturing</td>\n",
       "    </tr>\n",
       "    <tr>\n",
       "      <th>1</th>\n",
       "      <td>3D Printing</td>\n",
       "      <td>Manufacturing</td>\n",
       "    </tr>\n",
       "    <tr>\n",
       "      <th>2</th>\n",
       "      <td>3D Technology</td>\n",
       "      <td>Manufacturing</td>\n",
       "    </tr>\n",
       "    <tr>\n",
       "      <th>6</th>\n",
       "      <td>Advanced Materials</td>\n",
       "      <td>Manufacturing</td>\n",
       "    </tr>\n",
       "    <tr>\n",
       "      <th>14</th>\n",
       "      <td>Agriculture</td>\n",
       "      <td>Manufacturing</td>\n",
       "    </tr>\n",
       "  </tbody>\n",
       "</table>\n",
       "</div>"
      ],
      "text/plain": [
       "         category_list    main_sector\n",
       "0                   3D  Manufacturing\n",
       "1          3D Printing  Manufacturing\n",
       "2        3D Technology  Manufacturing\n",
       "6   Advanced Materials  Manufacturing\n",
       "14         Agriculture  Manufacturing"
      ]
     },
     "execution_count": 69,
     "metadata": {},
     "output_type": "execute_result"
    }
   ],
   "source": [
    "\n",
    "mapping = pd.melt(mapping, id_vars =['category_list'], value_vars =['Manufacturing','Automotive & Sports',\n",
    "                                                              'Cleantech / Semiconductors','Entertainment',\n",
    "                                                             'Health','News, Search and Messaging','Others',\n",
    "                                                             'Social, Finance, Analytics, Advertising']) \n",
    "mapping = mapping[~(mapping.value == 0)]\n",
    "mapping = mapping.drop('value', axis = 1)\n",
    "mapping = mapping.rename(columns = {\"variable\":\"main_sector\"})\n",
    "mapping.head()"
   ]
  },
  {
   "cell_type": "code",
   "execution_count": 70,
   "id": "3a0e0218",
   "metadata": {},
   "outputs": [
    {
     "data": {
      "text/plain": [
       "687"
      ]
     },
     "execution_count": 70,
     "metadata": {},
     "output_type": "execute_result"
    }
   ],
   "source": [
    "primary_sector = mapping['category_list'].str.lower()\n",
    "len(primary_sector)"
   ]
  },
  {
   "cell_type": "code",
   "execution_count": 71,
   "id": "7b1da2cf",
   "metadata": {},
   "outputs": [
    {
     "data": {
      "text/plain": [
       "1844                 0notechnology\n",
       "1845    0tural language processing\n",
       "1846              0tural resources\n",
       "3908                     0vigation\n",
       "0                               3d\n",
       "                   ...            \n",
       "4804                     wholesale\n",
       "2744              wine and spirits\n",
       "2745                      wireless\n",
       "4807                         women\n",
       "4808                  young adults\n",
       "Name: category_list, Length: 687, dtype: object"
      ]
     },
     "execution_count": 71,
     "metadata": {},
     "output_type": "execute_result"
    }
   ],
   "source": [
    "primary_sector.sort_values(ascending=True)"
   ]
  },
  {
   "cell_type": "markdown",
   "id": "3f3e107f",
   "metadata": {},
   "source": [
    "Some records has '0' instead on  'na'.  \n",
    "- Eg 0notechnology should be nanotechnology"
   ]
  },
  {
   "cell_type": "code",
   "execution_count": 72,
   "id": "4f8f70d2",
   "metadata": {},
   "outputs": [
    {
     "data": {
      "text/plain": [
       "0                     3d\n",
       "1            3d printing\n",
       "2          3d technology\n",
       "4812          accounting\n",
       "2752    active lifestyle\n",
       "              ...       \n",
       "4804           wholesale\n",
       "2744    wine and spirits\n",
       "2745            wireless\n",
       "4807               women\n",
       "4808        young adults\n",
       "Name: category_list, Length: 687, dtype: object"
      ]
     },
     "execution_count": 72,
     "metadata": {},
     "output_type": "execute_result"
    }
   ],
   "source": [
    "#Looks like file had 0s instead of na ,Replacing na by 0 (tried merge but records difference islarger if this is not replaced)\n",
    "primary_sector=primary_sector.apply(lambda x: x.replace('0', 'na'))\n",
    "primary_sector.sort_values(ascending=True)"
   ]
  },
  {
   "cell_type": "code",
   "execution_count": 73,
   "id": "d8207ab2",
   "metadata": {},
   "outputs": [],
   "source": [
    "main_sector = mapping.main_sector"
   ]
  },
  {
   "cell_type": "code",
   "execution_count": 74,
   "id": "2faa2536",
   "metadata": {},
   "outputs": [
    {
     "data": {
      "text/html": [
       "<div>\n",
       "<style scoped>\n",
       "    .dataframe tbody tr th:only-of-type {\n",
       "        vertical-align: middle;\n",
       "    }\n",
       "\n",
       "    .dataframe tbody tr th {\n",
       "        vertical-align: top;\n",
       "    }\n",
       "\n",
       "    .dataframe thead th {\n",
       "        text-align: right;\n",
       "    }\n",
       "</style>\n",
       "<table border=\"1\" class=\"dataframe\">\n",
       "  <thead>\n",
       "    <tr style=\"text-align: right;\">\n",
       "      <th></th>\n",
       "      <th>primary_sector</th>\n",
       "      <th>main_sector</th>\n",
       "    </tr>\n",
       "  </thead>\n",
       "  <tbody>\n",
       "    <tr>\n",
       "      <th>0</th>\n",
       "      <td>3d</td>\n",
       "      <td>Manufacturing</td>\n",
       "    </tr>\n",
       "    <tr>\n",
       "      <th>1</th>\n",
       "      <td>3d printing</td>\n",
       "      <td>Manufacturing</td>\n",
       "    </tr>\n",
       "    <tr>\n",
       "      <th>2</th>\n",
       "      <td>3d technology</td>\n",
       "      <td>Manufacturing</td>\n",
       "    </tr>\n",
       "    <tr>\n",
       "      <th>3</th>\n",
       "      <td>advanced materials</td>\n",
       "      <td>Manufacturing</td>\n",
       "    </tr>\n",
       "    <tr>\n",
       "      <th>4</th>\n",
       "      <td>agriculture</td>\n",
       "      <td>Manufacturing</td>\n",
       "    </tr>\n",
       "  </tbody>\n",
       "</table>\n",
       "</div>"
      ],
      "text/plain": [
       "       primary_sector    main_sector\n",
       "0                  3d  Manufacturing\n",
       "1         3d printing  Manufacturing\n",
       "2       3d technology  Manufacturing\n",
       "3  advanced materials  Manufacturing\n",
       "4         agriculture  Manufacturing"
      ]
     },
     "execution_count": 74,
     "metadata": {},
     "output_type": "execute_result"
    }
   ],
   "source": [
    "master_mapping=pd.DataFrame({'primary_sector':primary_sector.values, 'main_sector':main_sector.values})\n",
    "master_mapping.head()"
   ]
  },
  {
   "cell_type": "markdown",
   "id": "ce8c4bbb",
   "metadata": {},
   "source": [
    "Sorting english speaking countries from the top 9 list based on the amount raised"
   ]
  },
  {
   "cell_type": "code",
   "execution_count": 78,
   "id": "c42cb3bb",
   "metadata": {},
   "outputs": [
    {
     "data": {
      "text/html": [
       "<div>\n",
       "<style scoped>\n",
       "    .dataframe tbody tr th:only-of-type {\n",
       "        vertical-align: middle;\n",
       "    }\n",
       "\n",
       "    .dataframe tbody tr th {\n",
       "        vertical-align: top;\n",
       "    }\n",
       "\n",
       "    .dataframe thead th {\n",
       "        text-align: right;\n",
       "    }\n",
       "</style>\n",
       "<table border=\"1\" class=\"dataframe\">\n",
       "  <thead>\n",
       "    <tr style=\"text-align: right;\">\n",
       "      <th></th>\n",
       "      <th>permalink</th>\n",
       "      <th>funding_round_type</th>\n",
       "      <th>raised_amount_usd</th>\n",
       "      <th>name</th>\n",
       "      <th>category_list</th>\n",
       "      <th>status</th>\n",
       "      <th>country_code</th>\n",
       "      <th>primary_sector</th>\n",
       "    </tr>\n",
       "  </thead>\n",
       "  <tbody>\n",
       "    <tr>\n",
       "      <th>0</th>\n",
       "      <td>/organization/-fame</td>\n",
       "      <td>venture</td>\n",
       "      <td>10,000,000.00</td>\n",
       "      <td>#fame</td>\n",
       "      <td>Media</td>\n",
       "      <td>operating</td>\n",
       "      <td>IND</td>\n",
       "      <td>media</td>\n",
       "    </tr>\n",
       "    <tr>\n",
       "      <th>10</th>\n",
       "      <td>/organization/0xdata</td>\n",
       "      <td>venture</td>\n",
       "      <td>20,000,000.00</td>\n",
       "      <td>H2O.ai</td>\n",
       "      <td>Analytics</td>\n",
       "      <td>operating</td>\n",
       "      <td>USA</td>\n",
       "      <td>analytics</td>\n",
       "    </tr>\n",
       "    <tr>\n",
       "      <th>11</th>\n",
       "      <td>/organization/0xdata</td>\n",
       "      <td>venture</td>\n",
       "      <td>1,700,000.00</td>\n",
       "      <td>H2O.ai</td>\n",
       "      <td>Analytics</td>\n",
       "      <td>operating</td>\n",
       "      <td>USA</td>\n",
       "      <td>analytics</td>\n",
       "    </tr>\n",
       "    <tr>\n",
       "      <th>12</th>\n",
       "      <td>/organization/0xdata</td>\n",
       "      <td>venture</td>\n",
       "      <td>8,900,000.00</td>\n",
       "      <td>H2O.ai</td>\n",
       "      <td>Analytics</td>\n",
       "      <td>operating</td>\n",
       "      <td>USA</td>\n",
       "      <td>analytics</td>\n",
       "    </tr>\n",
       "    <tr>\n",
       "      <th>22</th>\n",
       "      <td>/organization/1-mainstream</td>\n",
       "      <td>venture</td>\n",
       "      <td>5,000,000.00</td>\n",
       "      <td>1 Mainstream</td>\n",
       "      <td>Apps|Cable|Distribution|Software</td>\n",
       "      <td>acquired</td>\n",
       "      <td>USA</td>\n",
       "      <td>apps</td>\n",
       "    </tr>\n",
       "  </tbody>\n",
       "</table>\n",
       "</div>"
      ],
      "text/plain": [
       "                     permalink funding_round_type  raised_amount_usd  \\\n",
       "0          /organization/-fame            venture      10,000,000.00   \n",
       "10        /organization/0xdata            venture      20,000,000.00   \n",
       "11        /organization/0xdata            venture       1,700,000.00   \n",
       "12        /organization/0xdata            venture       8,900,000.00   \n",
       "22  /organization/1-mainstream            venture       5,000,000.00   \n",
       "\n",
       "            name                     category_list     status country_code  \\\n",
       "0          #fame                             Media  operating          IND   \n",
       "10        H2O.ai                         Analytics  operating          USA   \n",
       "11        H2O.ai                         Analytics  operating          USA   \n",
       "12        H2O.ai                         Analytics  operating          USA   \n",
       "22  1 Mainstream  Apps|Cable|Distribution|Software   acquired          USA   \n",
       "\n",
       "   primary_sector  \n",
       "0           media  \n",
       "10      analytics  \n",
       "11      analytics  \n",
       "12      analytics  \n",
       "22           apps  "
      ]
     },
     "execution_count": 78,
     "metadata": {},
     "output_type": "execute_result"
    }
   ],
   "source": [
    "english_speaking = top9[top9['country_code'].isin(['USA', 'GBR', 'IND'])]\n",
    "english_speaking.groupby('country_code')['raised_amount_usd'].sum().sort_values(ascending=False)\n",
    "english_speaking.head()"
   ]
  },
  {
   "cell_type": "code",
   "execution_count": 96,
   "id": "f3739bf5",
   "metadata": {},
   "outputs": [
    {
     "name": "stdout",
     "output_type": "stream",
     "text": [
      "country_code\n",
      "GBR    20,004,243,770.00\n",
      "IND    14,261,508,718.00\n",
      "USA   419,827,724,225.00\n",
      "Name: raised_amount_usd, dtype: float64\n"
     ]
    },
    {
     "data": {
      "image/png": "[encoded data removed]",
      "text/plain": [
       "<Figure size 432x288 with 1 Axes>"
      ]
     },
     "metadata": {},
     "output_type": "display_data"
    }
   ],
   "source": [
    "top3 = english_speaking[['raised_amount_usd','country_code']]\n",
    "top3 = top3.groupby('country_code')['raised_amount_usd'].sum()\n",
    "top3.columns = ['Amount Raised','Country Code']\n",
    "colors = sns.color_palette('pastel')[0:3]\n",
    "print(top3)\n",
    "plt.pie(top3.values, labels = top3.index, colors = colors, autopct='%.0f%%')\n",
    "plt.show()"
   ]
  },
  {
   "cell_type": "code",
   "execution_count": 79,
   "id": "a0e2bb75",
   "metadata": {},
   "outputs": [],
   "source": [
    "english_speaking = pd.merge(english_speaking, master_mapping, how=\"inner\",on=\"primary_sector\")"
   ]
  },
  {
   "cell_type": "markdown",
   "id": "1fc68055",
   "metadata": {},
   "source": [
    "english speaking / venture"
   ]
  },
  {
   "cell_type": "code",
   "execution_count": 48,
   "id": "674784eb",
   "metadata": {},
   "outputs": [
    {
     "data": {
      "text/html": [
       "<div>\n",
       "<style scoped>\n",
       "    .dataframe tbody tr th:only-of-type {\n",
       "        vertical-align: middle;\n",
       "    }\n",
       "\n",
       "    .dataframe tbody tr th {\n",
       "        vertical-align: top;\n",
       "    }\n",
       "\n",
       "    .dataframe thead th {\n",
       "        text-align: right;\n",
       "    }\n",
       "</style>\n",
       "<table border=\"1\" class=\"dataframe\">\n",
       "  <thead>\n",
       "    <tr style=\"text-align: right;\">\n",
       "      <th></th>\n",
       "      <th>permalink</th>\n",
       "      <th>funding_round_type</th>\n",
       "      <th>raised_amount_usd</th>\n",
       "      <th>name</th>\n",
       "      <th>category_list</th>\n",
       "      <th>status</th>\n",
       "      <th>country_code</th>\n",
       "      <th>primary_sector</th>\n",
       "      <th>main_sector</th>\n",
       "    </tr>\n",
       "  </thead>\n",
       "  <tbody>\n",
       "    <tr>\n",
       "      <th>0</th>\n",
       "      <td>/organization/-fame</td>\n",
       "      <td>venture</td>\n",
       "      <td>10,000,000.00</td>\n",
       "      <td>#fame</td>\n",
       "      <td>Media</td>\n",
       "      <td>operating</td>\n",
       "      <td>IND</td>\n",
       "      <td>media</td>\n",
       "      <td>Entertainment</td>\n",
       "    </tr>\n",
       "    <tr>\n",
       "      <th>1</th>\n",
       "      <td>/organization/90min</td>\n",
       "      <td>venture</td>\n",
       "      <td>15,000,000.00</td>\n",
       "      <td>90min</td>\n",
       "      <td>Media|News|Publishing|Soccer|Sports</td>\n",
       "      <td>operating</td>\n",
       "      <td>GBR</td>\n",
       "      <td>media</td>\n",
       "      <td>Entertainment</td>\n",
       "    </tr>\n",
       "    <tr>\n",
       "      <th>2</th>\n",
       "      <td>/organization/90min</td>\n",
       "      <td>venture</td>\n",
       "      <td>5,800,000.00</td>\n",
       "      <td>90min</td>\n",
       "      <td>Media|News|Publishing|Soccer|Sports</td>\n",
       "      <td>operating</td>\n",
       "      <td>GBR</td>\n",
       "      <td>media</td>\n",
       "      <td>Entertainment</td>\n",
       "    </tr>\n",
       "    <tr>\n",
       "      <th>3</th>\n",
       "      <td>/organization/90min</td>\n",
       "      <td>venture</td>\n",
       "      <td>18,000,000.00</td>\n",
       "      <td>90min</td>\n",
       "      <td>Media|News|Publishing|Soccer|Sports</td>\n",
       "      <td>operating</td>\n",
       "      <td>GBR</td>\n",
       "      <td>media</td>\n",
       "      <td>Entertainment</td>\n",
       "    </tr>\n",
       "    <tr>\n",
       "      <th>4</th>\n",
       "      <td>/organization/all-def-digital</td>\n",
       "      <td>venture</td>\n",
       "      <td>5,000,000.00</td>\n",
       "      <td>All Def Digital</td>\n",
       "      <td>Media</td>\n",
       "      <td>operating</td>\n",
       "      <td>USA</td>\n",
       "      <td>media</td>\n",
       "      <td>Entertainment</td>\n",
       "    </tr>\n",
       "    <tr>\n",
       "      <th>5</th>\n",
       "      <td>/organization/audiosocket</td>\n",
       "      <td>venture</td>\n",
       "      <td>650,000.00</td>\n",
       "      <td>Audiosocket</td>\n",
       "      <td>Media|Music|Technology</td>\n",
       "      <td>operating</td>\n",
       "      <td>USA</td>\n",
       "      <td>media</td>\n",
       "      <td>Entertainment</td>\n",
       "    </tr>\n",
       "    <tr>\n",
       "      <th>6</th>\n",
       "      <td>/organization/audiosocket</td>\n",
       "      <td>venture</td>\n",
       "      <td>750,000.00</td>\n",
       "      <td>Audiosocket</td>\n",
       "      <td>Media|Music|Technology</td>\n",
       "      <td>operating</td>\n",
       "      <td>USA</td>\n",
       "      <td>media</td>\n",
       "      <td>Entertainment</td>\n",
       "    </tr>\n",
       "    <tr>\n",
       "      <th>7</th>\n",
       "      <td>/organization/audiosocket</td>\n",
       "      <td>venture</td>\n",
       "      <td>1,582,300.00</td>\n",
       "      <td>Audiosocket</td>\n",
       "      <td>Media|Music|Technology</td>\n",
       "      <td>operating</td>\n",
       "      <td>USA</td>\n",
       "      <td>media</td>\n",
       "      <td>Entertainment</td>\n",
       "    </tr>\n",
       "    <tr>\n",
       "      <th>8</th>\n",
       "      <td>/organization/babble</td>\n",
       "      <td>venture</td>\n",
       "      <td>2,000,000.00</td>\n",
       "      <td>Babble</td>\n",
       "      <td>Media|News|Parenting</td>\n",
       "      <td>acquired</td>\n",
       "      <td>USA</td>\n",
       "      <td>media</td>\n",
       "      <td>Entertainment</td>\n",
       "    </tr>\n",
       "    <tr>\n",
       "      <th>9</th>\n",
       "      <td>/organization/babble</td>\n",
       "      <td>venture</td>\n",
       "      <td>1,250,000.00</td>\n",
       "      <td>Babble</td>\n",
       "      <td>Media|News|Parenting</td>\n",
       "      <td>acquired</td>\n",
       "      <td>USA</td>\n",
       "      <td>media</td>\n",
       "      <td>Entertainment</td>\n",
       "    </tr>\n",
       "    <tr>\n",
       "      <th>10</th>\n",
       "      <td>/organization/babble</td>\n",
       "      <td>venture</td>\n",
       "      <td>3,000,000.00</td>\n",
       "      <td>Babble</td>\n",
       "      <td>Media|News|Parenting</td>\n",
       "      <td>acquired</td>\n",
       "      <td>USA</td>\n",
       "      <td>media</td>\n",
       "      <td>Entertainment</td>\n",
       "    </tr>\n",
       "    <tr>\n",
       "      <th>11</th>\n",
       "      <td>/organization/bedloo</td>\n",
       "      <td>venture</td>\n",
       "      <td>657,589.00</td>\n",
       "      <td>Bedloo</td>\n",
       "      <td>Media|News|Software</td>\n",
       "      <td>operating</td>\n",
       "      <td>USA</td>\n",
       "      <td>media</td>\n",
       "      <td>Entertainment</td>\n",
       "    </tr>\n",
       "    <tr>\n",
       "      <th>12</th>\n",
       "      <td>/organization/bedloo</td>\n",
       "      <td>venture</td>\n",
       "      <td>412,500.00</td>\n",
       "      <td>Bedloo</td>\n",
       "      <td>Media|News|Software</td>\n",
       "      <td>operating</td>\n",
       "      <td>USA</td>\n",
       "      <td>media</td>\n",
       "      <td>Entertainment</td>\n",
       "    </tr>\n",
       "    <tr>\n",
       "      <th>13</th>\n",
       "      <td>/organization/bedloo</td>\n",
       "      <td>venture</td>\n",
       "      <td>848,000.00</td>\n",
       "      <td>Bedloo</td>\n",
       "      <td>Media|News|Software</td>\n",
       "      <td>operating</td>\n",
       "      <td>USA</td>\n",
       "      <td>media</td>\n",
       "      <td>Entertainment</td>\n",
       "    </tr>\n",
       "    <tr>\n",
       "      <th>14</th>\n",
       "      <td>/organization/chefs-feed</td>\n",
       "      <td>venture</td>\n",
       "      <td>5,000,000.00</td>\n",
       "      <td>ChefsFeed</td>\n",
       "      <td>Media|Mobile|Restaurants|Technology</td>\n",
       "      <td>operating</td>\n",
       "      <td>USA</td>\n",
       "      <td>media</td>\n",
       "      <td>Entertainment</td>\n",
       "    </tr>\n",
       "  </tbody>\n",
       "</table>\n",
       "</div>"
      ],
      "text/plain": [
       "                        permalink funding_round_type  raised_amount_usd  \\\n",
       "0             /organization/-fame            venture      10,000,000.00   \n",
       "1             /organization/90min            venture      15,000,000.00   \n",
       "2             /organization/90min            venture       5,800,000.00   \n",
       "3             /organization/90min            venture      18,000,000.00   \n",
       "4   /organization/all-def-digital            venture       5,000,000.00   \n",
       "5       /organization/audiosocket            venture         650,000.00   \n",
       "6       /organization/audiosocket            venture         750,000.00   \n",
       "7       /organization/audiosocket            venture       1,582,300.00   \n",
       "8            /organization/babble            venture       2,000,000.00   \n",
       "9            /organization/babble            venture       1,250,000.00   \n",
       "10           /organization/babble            venture       3,000,000.00   \n",
       "11           /organization/bedloo            venture         657,589.00   \n",
       "12           /organization/bedloo            venture         412,500.00   \n",
       "13           /organization/bedloo            venture         848,000.00   \n",
       "14       /organization/chefs-feed            venture       5,000,000.00   \n",
       "\n",
       "               name                        category_list     status  \\\n",
       "0             #fame                                Media  operating   \n",
       "1             90min  Media|News|Publishing|Soccer|Sports  operating   \n",
       "2             90min  Media|News|Publishing|Soccer|Sports  operating   \n",
       "3             90min  Media|News|Publishing|Soccer|Sports  operating   \n",
       "4   All Def Digital                                Media  operating   \n",
       "5       Audiosocket               Media|Music|Technology  operating   \n",
       "6       Audiosocket               Media|Music|Technology  operating   \n",
       "7       Audiosocket               Media|Music|Technology  operating   \n",
       "8            Babble                 Media|News|Parenting   acquired   \n",
       "9            Babble                 Media|News|Parenting   acquired   \n",
       "10           Babble                 Media|News|Parenting   acquired   \n",
       "11           Bedloo                  Media|News|Software  operating   \n",
       "12           Bedloo                  Media|News|Software  operating   \n",
       "13           Bedloo                  Media|News|Software  operating   \n",
       "14        ChefsFeed  Media|Mobile|Restaurants|Technology  operating   \n",
       "\n",
       "   country_code primary_sector    main_sector  \n",
       "0           IND          media  Entertainment  \n",
       "1           GBR          media  Entertainment  \n",
       "2           GBR          media  Entertainment  \n",
       "3           GBR          media  Entertainment  \n",
       "4           USA          media  Entertainment  \n",
       "5           USA          media  Entertainment  \n",
       "6           USA          media  Entertainment  \n",
       "7           USA          media  Entertainment  \n",
       "8           USA          media  Entertainment  \n",
       "9           USA          media  Entertainment  \n",
       "10          USA          media  Entertainment  \n",
       "11          USA          media  Entertainment  \n",
       "12          USA          media  Entertainment  \n",
       "13          USA          media  Entertainment  \n",
       "14          USA          media  Entertainment  "
      ]
     },
     "execution_count": 48,
     "metadata": {},
     "output_type": "execute_result"
    }
   ],
   "source": [
    "english_speaking.head(15)"
   ]
  },
  {
   "cell_type": "code",
   "execution_count": 49,
   "id": "577be454",
   "metadata": {},
   "outputs": [
    {
     "data": {
      "text/plain": [
       "38788"
      ]
     },
     "execution_count": 49,
     "metadata": {},
     "output_type": "execute_result"
    }
   ],
   "source": [
    "len(english_speaking)"
   ]
  },
  {
   "cell_type": "markdown",
   "id": "216e3f36",
   "metadata": {},
   "source": [
    "Selecting venture records in english speaking countries if the amount raised is in between 5M and 15M"
   ]
  },
  {
   "cell_type": "markdown",
   "id": "edd9b17a",
   "metadata": {},
   "source": [
    "##### USA"
   ]
  },
  {
   "cell_type": "code",
   "execution_count": 101,
   "id": "48d61522",
   "metadata": {},
   "outputs": [],
   "source": [
    "#USA 5M - 15M\n",
    "USA=english_speaking[(english_speaking['raised_amount_usd']>=5000000.0) & (english_speaking['raised_amount_usd'] <= 15000000.0) & (english_speaking['country_code'] == 'USA')]"
   ]
  },
  {
   "cell_type": "markdown",
   "id": "1ed12077",
   "metadata": {},
   "source": [
    "#### GBR"
   ]
  },
  {
   "cell_type": "code",
   "execution_count": 102,
   "id": "21417271",
   "metadata": {},
   "outputs": [],
   "source": [
    "#GBR 5M - 15M\n",
    "GBR=english_speaking[(english_speaking['raised_amount_usd']>=5000000.0) & (english_speaking['raised_amount_usd'] <= 15000000.0) & (english_speaking['country_code'] == 'GBR')]"
   ]
  },
  {
   "cell_type": "markdown",
   "id": "e78d190e",
   "metadata": {},
   "source": [
    "##### IND"
   ]
  },
  {
   "cell_type": "code",
   "execution_count": 103,
   "id": "50538762",
   "metadata": {},
   "outputs": [],
   "source": [
    "#IND 5M - 15M\n",
    "IND=english_speaking[(english_speaking['raised_amount_usd']>=5000000.0) & (english_speaking['raised_amount_usd'] <= 15000000.0) & (english_speaking['country_code'] == 'IND')]"
   ]
  },
  {
   "cell_type": "code",
   "execution_count": 104,
   "id": "d1e461e3",
   "metadata": {},
   "outputs": [
    {
     "name": "stdout",
     "output_type": "stream",
     "text": [
      "Count for USA: 12063\n",
      "Count for GBR: 621\n",
      "Count for IND: 328\n"
     ]
    }
   ],
   "source": [
    "print('Count for USA: {}'.format(len(USA.index)))\n",
    "print('Count for GBR: {}'.format(len(GBR.index)))\n",
    "print('Count for IND: {}'.format(len(IND.index)))"
   ]
  },
  {
   "cell_type": "markdown",
   "id": "d158c1a0",
   "metadata": {},
   "source": [
    "Finding main sectors of USA, GBR & IND"
   ]
  },
  {
   "cell_type": "code",
   "execution_count": 105,
   "id": "56a72311",
   "metadata": {},
   "outputs": [],
   "source": [
    "USA_grouped = USA.groupby('main_sector')\n",
    "GBR_grouped = GBR.groupby('main_sector')\n",
    "IND_grouped = IND.groupby('main_sector')"
   ]
  },
  {
   "cell_type": "code",
   "execution_count": 134,
   "id": "9a1f9469",
   "metadata": {},
   "outputs": [
    {
     "name": "stdout",
     "output_type": "stream",
     "text": [
      "main_sector\n",
      "Others                                     2950\n",
      "Social, Finance, Analytics, Advertising    2714\n",
      "Cleantech / Semiconductors                 2350\n",
      "News, Search and Messaging                 1583\n",
      "Health                                      909\n",
      "Name: raised_amount_usd, dtype: int64\n"
     ]
    },
    {
     "data": {
      "image/png": "[encoded data removed]",
      "text/plain": [
       "<Figure size 432x288 with 1 Axes>"
      ]
     },
     "metadata": {},
     "output_type": "display_data"
    }
   ],
   "source": [
    "#sectorwise funding count of USA\n",
    "USA_topSector = USA_grouped['raised_amount_usd'].count().sort_values(ascending=False)\n",
    "print(USA_topSector.head(5))\n",
    "USA_topSector.plot.pie(autopct=\"%.1f%%\");"
   ]
  },
  {
   "cell_type": "code",
   "execution_count": 135,
   "id": "6349844c",
   "metadata": {},
   "outputs": [
    {
     "name": "stdout",
     "output_type": "stream",
     "text": [
      "main_sector\n",
      "Others                                     147\n",
      "Social, Finance, Analytics, Advertising    133\n",
      "Cleantech / Semiconductors                 130\n",
      "News, Search and Messaging                  73\n",
      "Entertainment                               56\n",
      "Name: raised_amount_usd, dtype: int64\n"
     ]
    },
    {
     "data": {
      "image/png": "[encoded data removed]",
      "text/plain": [
       "<Figure size 432x288 with 1 Axes>"
      ]
     },
     "metadata": {},
     "output_type": "display_data"
    }
   ],
   "source": [
    "#sectorwise funding count of GBR\n",
    "GBR_topSector = GBR_grouped['raised_amount_usd'].count().sort_values(ascending=False)\n",
    "print(GBR_topSector.head(5))\n",
    "GBR_topSector.plot.pie(autopct=\"%.1f%%\");"
   ]
  },
  {
   "cell_type": "code",
   "execution_count": 136,
   "id": "5de82e1a",
   "metadata": {},
   "outputs": [
    {
     "name": "stdout",
     "output_type": "stream",
     "text": [
      "main_sector\n",
      "Others                                     110\n",
      "Social, Finance, Analytics, Advertising     60\n",
      "News, Search and Messaging                  52\n",
      "Entertainment                               33\n",
      "Manufacturing                               21\n",
      "Name: raised_amount_usd, dtype: int64\n"
     ]
    },
    {
     "data": {
      "image/png": "[encoded data removed]",
      "text/plain": [
       "<Figure size 432x288 with 1 Axes>"
      ]
     },
     "metadata": {},
     "output_type": "display_data"
    }
   ],
   "source": [
    "#sectorwise funding count of IND\n",
    "IND_topSector = IND_grouped['raised_amount_usd'].count().sort_values(ascending=False)\n",
    "print(IND_topSector.head(5))\n",
    "IND_topSector.plot.pie(autopct=\"%.1f%%\");"
   ]
  },
  {
   "cell_type": "code",
   "execution_count": 139,
   "id": "52c949af",
   "metadata": {},
   "outputs": [
    {
     "name": "stdout",
     "output_type": "stream",
     "text": [
      "main_sector\n",
      "Others                                    26,321,007,002.00\n",
      "Social, Finance, Analytics, Advertising   23,807,376,964.00\n",
      "Cleantech / Semiconductors                21,633,430,822.00\n",
      "News, Search and Messaging                13,971,567,428.00\n",
      "Health                                     8,211,859,357.00\n",
      "Manufacturing                              7,258,553,378.00\n",
      "Entertainment                              5,099,197,982.00\n",
      "Automotive & Sports                        1,454,104,361.00\n",
      "Name: raised_amount_usd, dtype: float64\n"
     ]
    },
    {
     "data": {
      "text/plain": [
       "<AxesSubplot:ylabel='raised_amount_usd'>"
      ]
     },
     "execution_count": 139,
     "metadata": {},
     "output_type": "execute_result"
    },
    {
     "data": {
      "image/png": "[encoded data removed]",
      "text/plain": [
       "<Figure size 432x288 with 1 Axes>"
      ]
     },
     "metadata": {},
     "output_type": "display_data"
    }
   ],
   "source": [
    "#Sectorwise expenditure USA\n",
    "USA_sectorwise = USA_grouped['raised_amount_usd'].sum().sort_values(ascending=False)\n",
    "print(USA_sectorwise)\n",
    "USA_sectorwise.plot.pie(autopct=\"%.1f%%\")"
   ]
  },
  {
   "cell_type": "code",
   "execution_count": 140,
   "id": "dcb23b3e",
   "metadata": {},
   "outputs": [
    {
     "name": "stdout",
     "output_type": "stream",
     "text": [
      "main_sector\n",
      "Others                                    1,283,624,289.00\n",
      "Cleantech / Semiconductors                1,163,990,056.00\n",
      "Social, Finance, Analytics, Advertising   1,089,404,014.00\n",
      "News, Search and Messaging                  615,746,235.00\n",
      "Entertainment                               482,784,687.00\n",
      "Manufacturing                               361,940,335.00\n",
      "Health                                      214,537,510.00\n",
      "Automotive & Sports                         167,051,565.00\n",
      "Name: raised_amount_usd, dtype: float64\n"
     ]
    },
    {
     "data": {
      "text/plain": [
       "<AxesSubplot:ylabel='raised_amount_usd'>"
      ]
     },
     "execution_count": 140,
     "metadata": {},
     "output_type": "execute_result"
    },
    {
     "data": {
      "image/png": "[encoded data removed]",
      "text/plain": [
       "<Figure size 432x288 with 1 Axes>"
      ]
     },
     "metadata": {},
     "output_type": "display_data"
    }
   ],
   "source": [
    "#Sectorwise expenditure GBR\n",
    "GBR_sectorwise = GBR_grouped['raised_amount_usd'].sum().sort_values(ascending=False)\n",
    "print(GBR_sectorwise)\n",
    "GBR_sectorwise.plot.pie(autopct=\"%.1f%%\")"
   ]
  },
  {
   "cell_type": "code",
   "execution_count": 141,
   "id": "a32f8469",
   "metadata": {},
   "outputs": [
    {
     "name": "stdout",
     "output_type": "stream",
     "text": [
      "main_sector\n",
      "Others                                    1,013,409,507.00\n",
      "Social, Finance, Analytics, Advertising     550,549,550.00\n",
      "News, Search and Messaging                  433,834,545.00\n",
      "Entertainment                               280,830,000.00\n",
      "Manufacturing                               200,900,000.00\n",
      "Health                                      167,740,000.00\n",
      "Cleantech / Semiconductors                  165,380,000.00\n",
      "Automotive & Sports                         136,900,000.00\n",
      "Name: raised_amount_usd, dtype: float64\n"
     ]
    },
    {
     "data": {
      "text/plain": [
       "<AxesSubplot:ylabel='raised_amount_usd'>"
      ]
     },
     "execution_count": 141,
     "metadata": {},
     "output_type": "execute_result"
    },
    {
     "data": {
      "image/png": "[encoded data removed]",
      "text/plain": [
       "<Figure size 432x288 with 1 Axes>"
      ]
     },
     "metadata": {},
     "output_type": "display_data"
    }
   ],
   "source": [
    "#Sectorwise expenditure IND\n",
    "IND_sectorwise = IND_grouped['raised_amount_usd'].sum().sort_values(ascending=False)\n",
    "print(IND_sectorwise)\n",
    "IND_sectorwise.plot.pie(autopct=\"%.1f%%\")"
   ]
  },
  {
   "cell_type": "markdown",
   "id": "8d0ee3b0",
   "metadata": {},
   "source": [
    "##### Company with highest funding in highest funded sector (Others) in USA"
   ]
  },
  {
   "cell_type": "code",
   "execution_count": 143,
   "id": "54fd7f9c",
   "metadata": {},
   "outputs": [],
   "source": [
    "USA_Others=USA.loc[(USA['main_sector']=='Others')]"
   ]
  },
  {
   "cell_type": "code",
   "execution_count": 144,
   "id": "25944ba0",
   "metadata": {},
   "outputs": [
    {
     "data": {
      "text/plain": [
       "permalink\n",
       "/organization/virtustream           64,300,000.00\n",
       "/organization/capella               54,968,051.00\n",
       "/organization/airtight-networks     54,201,907.00\n",
       "/organization/decarta               52,100,000.00\n",
       "/organization/black-duck-software   51,000,000.00\n",
       "                                         ...     \n",
       "/organization/startforce             5,000,000.00\n",
       "/organization/lumeta                 5,000,000.00\n",
       "/organization/storenvy               5,000,000.00\n",
       "/organization/stormwind              5,000,000.00\n",
       "/organization/reachforce             5,000,000.00\n",
       "Name: raised_amount_usd, Length: 2049, dtype: float64"
      ]
     },
     "execution_count": 144,
     "metadata": {},
     "output_type": "execute_result"
    }
   ],
   "source": [
    "USA_Others.groupby('permalink')['raised_amount_usd'].sum().sort_values(ascending=False)"
   ]
  },
  {
   "cell_type": "code",
   "execution_count": 153,
   "id": "f051dd30",
   "metadata": {},
   "outputs": [
    {
     "name": "stdout",
     "output_type": "stream",
     "text": [
      "permalink\n",
      "/organization/virtustream           64,300,000.00\n",
      "/organization/capella               54,968,051.00\n",
      "/organization/airtight-networks     54,201,907.00\n",
      "/organization/decarta               52,100,000.00\n",
      "/organization/black-duck-software   51,000,000.00\n",
      "Name: raised_amount_usd, dtype: float64\n"
     ]
    },
    {
     "data": {
      "text/plain": [
       "<AxesSubplot:ylabel='raised_amount_usd'>"
      ]
     },
     "execution_count": 153,
     "metadata": {},
     "output_type": "execute_result"
    },
    {
     "data": {
      "image/png": "[encoded data removed]",
      "text/plain": [
       "<Figure size 432x288 with 1 Axes>"
      ]
     },
     "metadata": {},
     "output_type": "display_data"
    }
   ],
   "source": [
    "USA_top5 = USA_Others.groupby('permalink')['raised_amount_usd'].sum().sort_values(ascending=False)[:5]\n",
    "print(USA_top5)\n",
    "USA_top5.plot.pie(autopct=\"%.1f%%\")"
   ]
  },
  {
   "cell_type": "markdown",
   "id": "32614ee9",
   "metadata": {},
   "source": [
    "##### Company with highest funding in highest funded sector (Others) in GBR"
   ]
  },
  {
   "cell_type": "code",
   "execution_count": 160,
   "id": "7ff07926",
   "metadata": {},
   "outputs": [
    {
     "name": "stdout",
     "output_type": "stream",
     "text": [
      "permalink\n",
      "/organization/electric-cloud            37,000,000.00\n",
      "/organization/sensage                   36,250,000.00\n",
      "/organization/enigmatic                 32,500,000.00\n",
      "/organization/silverrail-technologies   29,000,000.00\n",
      "/organization/opencloud                 27,972,766.00\n",
      "Name: raised_amount_usd, dtype: float64\n"
     ]
    },
    {
     "data": {
      "text/plain": [
       "<AxesSubplot:ylabel='raised_amount_usd'>"
      ]
     },
     "execution_count": 160,
     "metadata": {},
     "output_type": "execute_result"
    },
    {
     "data": {
      "image/png": "[encoded data removed]",
      "text/plain": [
       "<Figure size 432x288 with 1 Axes>"
      ]
     },
     "metadata": {},
     "output_type": "display_data"
    }
   ],
   "source": [
    "GBR_Others=GBR.loc[(GBR['main_sector']=='Others')]\n",
    "GBR_top5 = GBR_Others.groupby('permalink')['raised_amount_usd'].sum().sort_values(ascending=False)\n",
    "GBR_top5 = GBR_top5[:5]\n",
    "print(GBR_top5)\n",
    "GBR_top5.plot.pie(autopct=\"%.1f%%\")"
   ]
  },
  {
   "cell_type": "markdown",
   "id": "2943fbff",
   "metadata": {},
   "source": [
    "##### Company with highest funding in highest funded sector (Others) in IND"
   ]
  },
  {
   "cell_type": "code",
   "execution_count": 155,
   "id": "c7924868",
   "metadata": {},
   "outputs": [
    {
     "name": "stdout",
     "output_type": "stream",
     "text": [
      "permalink\n",
      "/organization/electric-cloud            37,000,000.00\n",
      "/organization/sensage                   36,250,000.00\n",
      "/organization/enigmatic                 32,500,000.00\n",
      "/organization/silverrail-technologies   29,000,000.00\n",
      "/organization/opencloud                 27,972,766.00\n",
      "Name: raised_amount_usd, dtype: float64\n"
     ]
    },
    {
     "data": {
      "text/plain": [
       "<AxesSubplot:ylabel='raised_amount_usd'>"
      ]
     },
     "execution_count": 155,
     "metadata": {},
     "output_type": "execute_result"
    },
    {
     "data": {
      "image/png": "[encoded data removed]",
      "text/plain": [
       "<Figure size 432x288 with 1 Axes>"
      ]
     },
     "metadata": {},
     "output_type": "display_data"
    }
   ],
   "source": [
    "##### Company with highest funding in highest funded sector (Others) in USA\n",
    "IND_Others=IND.loc[(IND['main_sector']=='Others')]\n",
    "IND_top5 = IND_Others.groupby('permalink')['raised_amount_usd'].sum().sort_values(ascending=False)\n",
    "IND_top5 = GBR_top5[:5]\n",
    "print(IND_top5)\n",
    "IND_top5.plot.pie(autopct=\"%.1f%%\")"
   ]
  },
  {
   "cell_type": "markdown",
   "id": "e2567568",
   "metadata": {},
   "source": [
    "##### Company with highest funding in highest funded sector (Social, Finance, Analytics, Advertising) in USA"
   ]
  },
  {
   "cell_type": "code",
   "execution_count": 156,
   "id": "c6a37f7d",
   "metadata": {},
   "outputs": [
    {
     "name": "stdout",
     "output_type": "stream",
     "text": [
      "permalink\n",
      "/organization/shotspotter   67,933,006.00\n",
      "/organization/demandbase    63,000,000.00\n",
      "/organization/intacct       61,800,000.00\n",
      "/organization/netbase       60,600,000.00\n",
      "/organization/lotame        59,700,000.00\n",
      "Name: raised_amount_usd, dtype: float64\n"
     ]
    },
    {
     "data": {
      "text/plain": [
       "<AxesSubplot:ylabel='raised_amount_usd'>"
      ]
     },
     "execution_count": 156,
     "metadata": {},
     "output_type": "execute_result"
    },
    {
     "data": {
      "image/png": "[encoded data removed]",
      "text/plain": [
       "<Figure size 432x288 with 1 Axes>"
      ]
     },
     "metadata": {},
     "output_type": "display_data"
    }
   ],
   "source": [
    "USA_Social=USA.loc[(USA['main_sector']=='Social, Finance, Analytics, Advertising')]\n",
    "USA_social_top5 = USA_Social.groupby('permalink')['raised_amount_usd'].sum().sort_values(ascending=False)[0:5]\n",
    "print(USA_social_top5)\n",
    "USA_social_top5.plot.pie(autopct=\"%.1f%%\")"
   ]
  },
  {
   "cell_type": "markdown",
   "id": "25543afb",
   "metadata": {},
   "source": [
    "##### Company with highest funding in highest funded sector (Social, Finance, Analytics, Advertising) in GBR"
   ]
  },
  {
   "cell_type": "code",
   "execution_count": 157,
   "id": "739ae2af",
   "metadata": {},
   "outputs": [
    {
     "name": "stdout",
     "output_type": "stream",
     "text": [
      "permalink\n",
      "/organization/celltick-technologies   37,500,000.00\n",
      "/organization/mythings                34,000,000.00\n",
      "/organization/zopa                    32,900,000.00\n",
      "/organization/imagini                 28,550,000.00\n",
      "/organization/marketinvoice           25,553,007.00\n",
      "Name: raised_amount_usd, dtype: float64\n"
     ]
    },
    {
     "data": {
      "text/plain": [
       "<AxesSubplot:ylabel='raised_amount_usd'>"
      ]
     },
     "execution_count": 157,
     "metadata": {},
     "output_type": "execute_result"
    },
    {
     "data": {
      "image/png": "[encoded data removed]",
      "text/plain": [
       "<Figure size 432x288 with 1 Axes>"
      ]
     },
     "metadata": {},
     "output_type": "display_data"
    }
   ],
   "source": [
    "GBR_Social=GBR.loc[(GBR['main_sector']=='Social, Finance, Analytics, Advertising')]\n",
    "GBR_social_top5 = GBR_Social.groupby('permalink')['raised_amount_usd'].sum().sort_values(ascending=False)[0:5]\n",
    "print(GBR_social_top5)\n",
    "GBR_social_top5.plot.pie(autopct=\"%.1f%%\")"
   ]
  },
  {
   "cell_type": "markdown",
   "id": "5c0d13bd",
   "metadata": {},
   "source": [
    "##### Company with highest funding in highest funded sector (Social, Finance, Analytics, Advertising) in IND"
   ]
  },
  {
   "cell_type": "code",
   "execution_count": 159,
   "id": "3fbbf56b",
   "metadata": {},
   "outputs": [
    {
     "name": "stdout",
     "output_type": "stream",
     "text": [
      "permalink\n",
      "/organization/manthan-systems              50,700,000.00\n",
      "/organization/komli-media                  28,000,000.00\n",
      "/organization/shopclues-com                25,000,000.00\n",
      "/organization/intarvo                      21,900,000.00\n",
      "/organization/grameen-financial-services   21,556,050.00\n",
      "Name: raised_amount_usd, dtype: float64\n"
     ]
    },
    {
     "data": {
      "text/plain": [
       "<AxesSubplot:ylabel='raised_amount_usd'>"
      ]
     },
     "execution_count": 159,
     "metadata": {},
     "output_type": "execute_result"
    },
    {
     "data": {
      "image/png": "[encoded data removed]",
      "text/plain": [
       "<Figure size 432x288 with 1 Axes>"
      ]
     },
     "metadata": {},
     "output_type": "display_data"
    }
   ],
   "source": [
    "IND_Social=IND.loc[(IND['main_sector']=='Social, Finance, Analytics, Advertising')]\n",
    "IND_social_top5 = IND_Social.groupby('permalink')['raised_amount_usd'].sum().sort_values(ascending=False)[0:5]\n",
    "print(IND_social_top5)\n",
    "IND_social_top5.plot.pie(autopct=\"%.1f%%\")"
   ]
  },
  {
   "cell_type": "markdown",
   "id": "bce30e00",
   "metadata": {},
   "source": [
    "###### Conclusion\n",
    "Based on the constraints mentioned (5m - 15m investment & english speaking nations)we conclude the following:\n",
    "\n",
    "1. USA, GBR and IND are top 3 english speaking countries (countries with english as one of their primary languages)\n",
    "2. USA\n",
    "    - Most common sector - Others\n",
    "    - 2nd Most common secotr - "
   ]
  },
  {
   "cell_type": "code",
   "execution_count": null,
   "id": "cd08e5a3",
   "metadata": {},
   "outputs": [],
   "source": []
  }
 ],
 "metadata": {
  "kernelspec": {
   "display_name": "Python 3",
   "language": "python",
   "name": "python3"
  },
  "language_info": {
   "codemirror_mode": {
    "name": "ipython",
    "version": 3
   },
   "file_extension": ".py",
   "mimetype": "text/x-python",
   "name": "python",
   "nbconvert_exporter": "python",
   "pygments_lexer": "ipython3",
   "version": "3.8.8"
  }
 },
 "nbformat": 4,
 "nbformat_minor": 5
}
